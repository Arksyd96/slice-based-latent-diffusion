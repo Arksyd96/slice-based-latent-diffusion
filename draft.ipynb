{
 "cells": [
  {
   "cell_type": "code",
   "execution_count": 14,
   "metadata": {},
   "outputs": [
    {
     "name": "stdout",
     "output_type": "stream",
     "text": [
      "Setting up [baseline] perceptual loss: trunk [vgg], v[0.1], spatial [off]\n"
     ]
    },
    {
     "name": "stderr",
     "output_type": "stream",
     "text": [
      "/home/aghiles/anaconda3/envs/work/lib/python3.8/site-packages/torchvision/models/_utils.py:208: UserWarning: The parameter 'pretrained' is deprecated since 0.13 and may be removed in the future, please use 'weights' instead.\n",
      "  warnings.warn(\n",
      "/home/aghiles/anaconda3/envs/work/lib/python3.8/site-packages/torchvision/models/_utils.py:223: UserWarning: Arguments other than a weight enum or `None` for 'weights' are deprecated since 0.13 and may be removed in the future. The current behavior is equivalent to passing `weights=VGG16_Weights.IMAGENET1K_V1`. You can also use `weights=VGG16_Weights.DEFAULT` to get the most up-to-date weights.\n",
      "  warnings.warn(msg)\n"
     ]
    },
    {
     "data": {
      "text/plain": [
       "torch.Size([2, 6, 24, 24, 12])"
      ]
     },
     "execution_count": 14,
     "metadata": {},
     "output_type": "execute_result"
    }
   ],
   "source": [
    "from modules.models.embedders.latent_embedders import VAE\n",
    "import torch\n",
    "\n",
    "model = VAE(\n",
    "    in_channels     = 2, \n",
    "    out_channels    = 2, \n",
    "    emb_channels    = 6,\n",
    "    spatial_dims    = 3, # 2D or 3D\n",
    "    hid_chs         = [64, 128, 256, 512], \n",
    "    kernel_sizes    = [3, 3, 3, 3],\n",
    "    strides         = [1, 2, 2, 2],\n",
    "    time_embedder   = None,\n",
    "    deep_supervision = False,\n",
    "    use_attention   = 'none',\n",
    "    loss            = torch.nn.L1Loss,\n",
    "    embedding_loss_weight = 1e-6,\n",
    "    optimizer_kwargs = {'lr': 1e-5},\n",
    "    perceptual_loss_weight=0.5\n",
    ")\n",
    "\n",
    "model = model.cuda()\n",
    "\n",
    "x = torch.randn(2, 2, 192, 192, 96).cuda()\n",
    "y = model.encode(x)\n",
    "y.shape"
   ]
  },
  {
   "cell_type": "code",
   "execution_count": 13,
   "metadata": {},
   "outputs": [
    {
     "data": {
      "text/plain": [
       "torch.Size([2, 6, 24, 24, 12])"
      ]
     },
     "execution_count": 13,
     "metadata": {},
     "output_type": "execute_result"
    }
   ],
   "source": [
    "from modules.models.estimators import UNet\n",
    "from modules.models.embedders import TimeEmbbeding\n",
    "\n",
    "cond_embedder = None\n",
    "# cond_embedder = LabelEmbedder\n",
    "cond_embedder_kwargs = {\n",
    "    'in_features': 9, \n",
    "    'out_features': 512, \n",
    "    'hidden_dim': 256\n",
    "}\n",
    "\n",
    "\n",
    "time_embedder = TimeEmbbeding\n",
    "time_embedder_kwargs = {\n",
    "    'emb_dim': 512 # stable diffusion uses 4 * model_channels (model_channels is about 256)\n",
    "}\n",
    "\n",
    "\n",
    "noise_estimator = UNet\n",
    "noise_estimator_kwargs = {\n",
    "    'in_ch': 6,\n",
    "    'out_ch': 6,  \n",
    "    'spatial_dims': 3,\n",
    "    'hid_chs': [64, 128, 256, 512],\n",
    "    'kernel_sizes': [3, 3, 3, 3],\n",
    "    'strides': [1, 2, 2, 2],\n",
    "    'time_embedder': time_embedder,\n",
    "    'time_embedder_kwargs': time_embedder_kwargs,\n",
    "    'cond_embedder': cond_embedder,\n",
    "    'cond_embedder_kwargs': cond_embedder_kwargs,\n",
    "    'deep_supervision': False,\n",
    "    'use_res_block': True,\n",
    "    'use_attention': 'none',\n",
    "}\n",
    "\n",
    "unet = noise_estimator(**noise_estimator_kwargs).cuda()\n",
    "x = torch.randn(2, 6, 24, 24, 12).cuda()\n",
    "\n",
    "y = unet(x)\n",
    "y[0].shape"
   ]
  },
  {
   "cell_type": "code",
   "execution_count": 49,
   "metadata": {},
   "outputs": [
    {
     "data": {
      "text/plain": [
       "tensor([[-0.5651],\n",
       "        [ 0.0180]], grad_fn=<ViewBackward0>)"
      ]
     },
     "execution_count": 49,
     "metadata": {},
     "output_type": "execute_result"
    }
   ],
   "source": [
    "import torch\n",
    "import torch.nn as nn\n",
    "\n",
    "# x = torch.randn(2, 1, 192, 192, 96)\n",
    "\n",
    "class ReshapeToMinus1x1(nn.Module):\n",
    "    def forward(self, x):\n",
    "        return x.view(-1, 1)\n",
    "\n",
    "discriminator = nn.Sequential(\n",
    "    nn.Conv3d(1, 32, kernel_size=3, stride=1, padding=1, bias=False),\n",
    "    nn.LeakyReLU(0.2, inplace=True),\n",
    "\n",
    "    nn.Conv3d(32, 64, kernel_size=4, stride=2, padding=1, bias=False),\n",
    "    nn.BatchNorm3d(64, affine=True),\n",
    "    nn.LeakyReLU(0.2, inplace=True),\n",
    "\n",
    "    nn.Conv3d(64, 128, kernel_size=4, stride=2, padding=1, bias=False),\n",
    "    nn.BatchNorm3d(128, affine=True),\n",
    "    nn.LeakyReLU(0.2, inplace=True),\n",
    "\n",
    "    nn.Conv3d(128, 256, kernel_size=4, stride=2, padding=1, bias=False),\n",
    "    nn.BatchNorm3d(256, affine=True),\n",
    "    nn.LeakyReLU(0.2, inplace=True),\n",
    "\n",
    "    nn.Conv3d(256, 512, kernel_size=4, stride=2, padding=1, bias=False),\n",
    "    nn.BatchNorm3d(512, affine=True),\n",
    "    nn.LeakyReLU(0.2, inplace=True),\n",
    "\n",
    "    nn.Conv3d(512, 1, kernel_size=(12, 12, 6), stride=1, padding=0),\n",
    "    ReshapeToMinus1x1()\n",
    ")\n",
    "\n",
    "discriminator(x)"
   ]
  },
  {
   "cell_type": "code",
   "execution_count": 46,
   "metadata": {},
   "outputs": [
    {
     "data": {
      "text/plain": [
       "tensor([[0.0055],\n",
       "        [0.6956]], grad_fn=<ReshapeAliasBackward0>)"
      ]
     },
     "execution_count": 46,
     "metadata": {},
     "output_type": "execute_result"
    }
   ],
   "source": [
    "discriminator(x).reshape(-1, 1)"
   ]
  },
  {
   "cell_type": "code",
   "execution_count": 3,
   "metadata": {},
   "outputs": [
    {
     "data": {
      "text/plain": [
       "(300, 2, 192, 192, 96)"
      ]
     },
     "execution_count": 3,
     "metadata": {},
     "output_type": "execute_result"
    }
   ],
   "source": [
    "import numpy as np\n",
    "\n",
    "d = np.load('./data/second_stage_dataset_192x192_300.npy')\n",
    "d.shape"
   ]
  },
  {
   "cell_type": "code",
   "execution_count": null,
   "metadata": {},
   "outputs": [],
   "source": [
    "import torch\n",
    "\n",
    "x = torch.randn(1, 2, 192, 192, 96).to('cuda')"
   ]
  },
  {
   "cell_type": "code",
   "execution_count": null,
   "metadata": {},
   "outputs": [],
   "source": [
    "z = model.encode(x)\n",
    "z.shape"
   ]
  },
  {
   "cell_type": "code",
   "execution_count": 10,
   "metadata": {},
   "outputs": [
    {
     "name": "stdout",
     "output_type": "stream",
     "text": [
      "[INFO] Register count_convNd() for <class 'torch.nn.modules.conv.Conv2d'>.\n",
      "[INFO] Register count_normalization() for <class 'torch.nn.modules.batchnorm.BatchNorm2d'>.\n",
      "[INFO] Register zero_ops() for <class 'torch.nn.modules.activation.ReLU'>.\n",
      "[INFO] Register zero_ops() for <class 'torch.nn.modules.pooling.MaxPool2d'>.\n",
      "[INFO] Register zero_ops() for <class 'torch.nn.modules.container.Sequential'>.\n",
      "[INFO] Register count_adap_avgpool() for <class 'torch.nn.modules.pooling.AdaptiveAvgPool2d'>.\n",
      "[INFO] Register count_linear() for <class 'torch.nn.modules.linear.Linear'>.\n"
     ]
    },
    {
     "data": {
      "text/plain": [
       "('595.948M', '11.690M')"
      ]
     },
     "execution_count": 10,
     "metadata": {},
     "output_type": "execute_result"
    }
   ],
   "source": [
    "from thop import clever_format\n",
    "from thop import profile\n",
    "\n",
    "input = torch.randn(1, 3, 128, 128).to('cuda')\n",
    "macs, params = profile(model, inputs=(input, ))\n",
    "macs, params = clever_format([macs, params], \"%.3f\")\n",
    "macs, params"
   ]
  },
  {
   "cell_type": "code",
   "execution_count": 4,
   "metadata": {},
   "outputs": [
    {
     "data": {
      "text/plain": [
       "0.7369731873111783"
      ]
     },
     "execution_count": 4,
     "metadata": {},
     "output_type": "execute_result"
    }
   ],
   "source": [
    "import numpy as np\n",
    "r = np.load('./data/radiomics.npy', allow_pickle=True).item()\n",
    "r['x'].max()"
   ]
  },
  {
   "cell_type": "code",
   "execution_count": null,
   "metadata": {},
   "outputs": [],
   "source": [
    "import numpy as np\n",
    "import torch\n",
    "\n",
    "from modules.models.embedders.latent_embedders import VAE\n",
    "from modules.data import BRATSDataModule\n",
    "\n",
    "latent_embedder = VAE\n",
    "latent_embedder_checkpoint = './runs/first_stage-2023_09_27_115636 (VAE 240x240 3 ch)/last.ckpt'\n",
    "\n",
    "latent_embedder = latent_embedder.load_from_checkpoint(latent_embedder_checkpoint, time_embedder=None)\n",
    "latent_embedder = latent_embedder.to('cuda')\n",
    "\n",
    "mask_embedder = latent_embedder.load_from_checkpoint('./runs/mask-embedder-2023_09_29_140415 (VAE 240x240 1ch)/last.ckpt', time_embedder=None)\n",
    "mask_embedder = mask_embedder.to('cuda')\n",
    "\n",
    "datamodule = BRATSDataModule(\n",
    "    data_dir        = './data/second_stage_dataset_240x240.npy',\n",
    "    train_ratio     = 1.0,\n",
    "    norm            = 'centered-norm', \n",
    "    batch_size      = 4,\n",
    "    num_workers     = 6,\n",
    "    shuffle         = True,\n",
    "    dtype           = torch.float32\n",
    ")\n",
    "\n",
    "datamodule.prepare_data()\n",
    "datamodule.setup()\n",
    "\n",
    "batch = next(iter(datamodule.train_dataloader()))\n",
    "\n",
    "print('start testing ...')\n",
    "x_0 = batch[0]\n",
    "condition = batch[1] if len(batch) > 1 else None\n",
    "\n",
    "# Embed into latent space or normalize \n",
    "batch = []\n",
    "latent_embedder.eval() \n",
    "mask_embedder.eval()\n",
    "with torch.no_grad():\n",
    "    for idx in range(x_0.shape[0]):\n",
    "        volume = x_0[idx].permute(3, 0, 1, 2)\n",
    "        images, masks = volume[:, 0, None, ...], volume[:, 1, None, ...]\n",
    "        images, masks = images.to('cuda'), masks.to('cuda')\n",
    "        \n",
    "        images = latent_embedder.encode(images, emb=None)\n",
    "        masks = mask_embedder.encode(masks, emb=None)\n",
    "        volume = torch.cat((images, masks), dim=1)\n",
    "\n",
    "        batch.append(volume)\n",
    "\n",
    "x_0 = torch.stack(batch, dim=0)\n",
    "x_0 = x_0.permute(0, 2, 1, 3, 4) # => [B, 2, 64, 16, 16]\n",
    "x_0 = torch.nn.functional.pad(x_0, (1, 1, 1, 1), mode='constant', value=0)\n",
    "x_0.shape"
   ]
  },
  {
   "cell_type": "code",
   "execution_count": null,
   "metadata": {},
   "outputs": [],
   "source": [
    "import numpy\n",
    "data = np.load('./data/first_stage_dataset_192x192.npy')\n",
    "data.shape"
   ]
  },
  {
   "cell_type": "code",
   "execution_count": 41,
   "metadata": {},
   "outputs": [
    {
     "data": {
      "text/plain": [
       "(torch.Size([4, 2, 192, 192]), torch.Size([4, 6, 24, 24]))"
      ]
     },
     "execution_count": 41,
     "metadata": {},
     "output_type": "execute_result"
    }
   ],
   "source": [
    "x = torch.randn(4, 2, 192, 192).to('cuda')\n",
    "o = model(x)\n",
    "e = model.encode(x)\n",
    "o[0].shape, e.shape"
   ]
  },
  {
   "cell_type": "code",
   "execution_count": 42,
   "metadata": {},
   "outputs": [],
   "source": [
    "from modules.models.estimators import UNet\n",
    "\n",
    "noise_estimator = UNet\n",
    "noise_estimator_kwargs = {\n",
    "    'in_ch': 1,\n",
    "    'out_ch': 1,  \n",
    "    'spatial_dims': 3,\n",
    "    'hid_chs': [64, 128, 256, 512],\n",
    "    'kernel_sizes': [3, 3, 3, 3],\n",
    "    'strides': [1, 2, 2, 2],\n",
    "    'deep_supervision': False,\n",
    "    'use_res_block': True,\n",
    "    'use_attention': 'none',\n",
    "}\n",
    "\n",
    "unet = noise_estimator(**noise_estimator_kwargs)\n",
    "unet = unet.to('cuda')"
   ]
  },
  {
   "cell_type": "code",
   "execution_count": 45,
   "metadata": {},
   "outputs": [
    {
     "data": {
      "text/plain": [
       "torch.Size([4, 1, 96, 24, 24])"
      ]
     },
     "execution_count": 45,
     "metadata": {},
     "output_type": "execute_result"
    }
   ],
   "source": [
    "x = torch.randn(4, 1, 96, 24, 24).to('cuda')\n",
    "o = unet(x)\n",
    "o[0].shape"
   ]
  },
  {
   "cell_type": "code",
   "execution_count": 6,
   "metadata": {},
   "outputs": [
    {
     "name": "stdout",
     "output_type": "stream",
     "text": [
      "tensor([[ 0.4558,  1.2434,  1.1396,  2.0401],\n",
      "        [ 0.0042, -1.8004, -0.5428, -0.8618],\n",
      "        [ 0.7314,  0.4490, -1.3641, -0.0475],\n",
      "        [ 1.7293,  1.0424, -0.0292,  1.4078]])\n",
      "tensor([[ 0.0000,  0.0000,  0.0000,  0.0000,  0.0000,  0.0000],\n",
      "        [ 0.0000,  0.4558,  1.2434,  1.1396,  2.0401,  0.0000],\n",
      "        [ 0.0000,  0.0042, -1.8004, -0.5428, -0.8618,  0.0000],\n",
      "        [ 0.0000,  0.7314,  0.4490, -1.3641, -0.0475,  0.0000],\n",
      "        [ 0.0000,  1.7293,  1.0424, -0.0292,  1.4078,  0.0000],\n",
      "        [ 0.0000,  0.0000,  0.0000,  0.0000,  0.0000,  0.0000]])\n"
     ]
    }
   ],
   "source": [
    "x_0 = torch.randn((1, 2, 2, 4, 4))\n",
    "print(x_0[0, 0, 0, :, :])\n",
    "\n",
    "x_0 = torch.nn.functional.pad(x_0, (1, 1, 1, 1), mode='constant', value=0)\n",
    "print(x_0[0, 0, 0, :, :])"
   ]
  },
  {
   "cell_type": "code",
   "execution_count": 2,
   "metadata": {},
   "outputs": [
    {
     "data": {
      "text/plain": [
       "(tensor(0.9645), tensor(0.6662), tensor(0.8294), tensor(0.8153))"
      ]
     },
     "execution_count": 2,
     "metadata": {},
     "output_type": "execute_result"
    }
   ],
   "source": [
    "import torch\n",
    "\n",
    "a = torch.randn(25, 25)\n",
    "b = torch.normal(0, 0.68, size=(25, 25))\n",
    "ab = torch.cat([a, b], dim=0)\n",
    "\n",
    "a.std(), b.std(), ab.std(), (a.std() + b.std()) / 2"
   ]
  },
  {
   "cell_type": "code",
   "execution_count": 3,
   "metadata": {},
   "outputs": [],
   "source": [
    "import torch\n",
    "\n",
    "volume = data[0, 0]\n",
    "volume = volume.transpose(2, 0, 1)[:, None]\n",
    "volume = torch.from_numpy(volume).type(torch.float32).to('cuda')\n",
    "\n",
    "vae.eval()\n",
    "reconstructed_volume = []\n",
    "for idx in range(volume.shape[0]):\n",
    "    with torch.no_grad():\n",
    "        reconstructed_volume.append(vae(volume[idx, None])[0].detach().cpu().numpy())"
   ]
  },
  {
   "cell_type": "code",
   "execution_count": 8,
   "metadata": {},
   "outputs": [
    {
     "data": {
      "text/plain": [
       "(128, 1, 240, 240)"
      ]
     },
     "execution_count": 8,
     "metadata": {},
     "output_type": "execute_result"
    }
   ],
   "source": [
    "volume = np.concatenate(reconstructed_volume, axis=0)\n",
    "volume.shape"
   ]
  },
  {
   "cell_type": "code",
   "execution_count": 1,
   "metadata": {},
   "outputs": [
    {
     "name": "stdout",
     "output_type": "stream",
     "text": [
      "\n",
      "        DataModule setup complete.\n",
      "        Number of training samples: 60\n",
      "        Number of validation samples: 0\n",
      "        Data shape: torch.Size([60, 2, 240, 240, 128])\n",
      "        Maximum: 1.0, Minimum: -1.0\n",
      "        \n"
     ]
    },
    {
     "name": "stderr",
     "output_type": "stream",
     "text": [
      "c:\\Users\\aghil\\miniconda3\\envs\\work\\lib\\site-packages\\torch\\utils\\data\\dataloader.py:560: UserWarning: This DataLoader will create 16 worker processes in total. Our suggested max number of worker in current system is 12 (`cpuset` is not taken into account), which is smaller than what this DataLoader is going to create. Please be aware that excessive worker creation might get DataLoader running slow or even freeze, lower the worker number to avoid potential slowness/freeze if necessary.\n",
      "  warnings.warn(_create_warning_msg(\n"
     ]
    }
   ],
   "source": [
    "from modules.models.embedders.latent_embedders import VAEGAN\n",
    "from modules.data import BRATSDataModule\n",
    "import torch\n",
    "\n",
    "# vaegan = VAEGAN.load_from_checkpoint('./runs/first_stage-2023_08_23_163957 (vae gan 2 ch)/last.ckpt', time_embedder=None)\n",
    "# vaegan = vaegan.to('cuda')\n",
    "\n",
    "datamodule = BRATSDataModule(\n",
    "    data_dir        = './data/second_stage_dataset_240x240.npy',\n",
    "    train_ratio     = 1.0,\n",
    "    norm            = 'centered-norm',\n",
    "    batch_size      = 16,\n",
    "    num_workers     = 16,\n",
    "    shuffle         = True,\n",
    "    # random_crop_size = (96, 96),\n",
    "    dtype           = torch.float32\n",
    ")\n",
    "\n",
    "datamodule.prepare_data()\n",
    "datamodule.setup()\n",
    "loader = datamodule.train_dataloader()\n",
    "\n",
    "batch = next(iter(loader))"
   ]
  },
  {
   "cell_type": "code",
   "execution_count": 2,
   "metadata": {},
   "outputs": [
    {
     "data": {
      "text/plain": [
       "torch.Size([16, 2, 240, 240, 128])"
      ]
     },
     "execution_count": 2,
     "metadata": {},
     "output_type": "execute_result"
    }
   ],
   "source": [
    "batch[0].shape"
   ]
  },
  {
   "cell_type": "code",
   "execution_count": 13,
   "metadata": {},
   "outputs": [
    {
     "data": {
      "text/plain": [
       "<matplotlib.image.AxesImage at 0x7f677b662310>"
      ]
     },
     "execution_count": 13,
     "metadata": {},
     "output_type": "execute_result"
    },
    {
     "data": {
      "image/png": "[encoded data removed]",
      "text/plain": [
       "<Figure size 432x288 with 1 Axes>"
      ]
     },
     "metadata": {
      "needs_background": "light"
     },
     "output_type": "display_data"
    }
   ],
   "source": [
    "import matplotlib.pyplot as plt\n",
    "\n",
    "plt.imshow(batch[0][13, 0, ...], cmap='gray')"
   ]
  },
  {
   "cell_type": "code",
   "execution_count": 1,
   "metadata": {},
   "outputs": [],
   "source": [
    "import numpy as np\n",
    "\n",
    "data = np.load('./data/brats_preprocessed.npz')\n",
    "data = data['data']"
   ]
  },
  {
   "cell_type": "code",
   "execution_count": 3,
   "metadata": {},
   "outputs": [],
   "source": [
    "data = data.reshape(-1, 2, 240, 240)"
   ]
  },
  {
   "cell_type": "code",
   "execution_count": 17,
   "metadata": {},
   "outputs": [],
   "source": [
    "shuffle_idx = np.random.permutation(data.__len__())\n",
    "shuffle_idx = shuffle_idx[:70000]\n",
    "data = data[shuffle_idx]"
   ]
  },
  {
   "cell_type": "code",
   "execution_count": 6,
   "metadata": {},
   "outputs": [],
   "source": [
    "data = np.load('./data/first_stage_dataset_240x240.npy')"
   ]
  },
  {
   "cell_type": "code",
   "execution_count": 10,
   "metadata": {},
   "outputs": [
    {
     "data": {
      "text/plain": [
       "array([-1.,  1.])"
      ]
     },
     "execution_count": 10,
     "metadata": {},
     "output_type": "execute_result"
    }
   ],
   "source": [
    "np.unique(data[:, 1])"
   ]
  },
  {
   "cell_type": "code",
   "execution_count": 9,
   "metadata": {},
   "outputs": [
    {
     "data": {
      "text/plain": [
       "<matplotlib.image.AxesImage at 0x7f27865cf1f0>"
      ]
     },
     "execution_count": 9,
     "metadata": {},
     "output_type": "execute_result"
    },
    {
     "data": {
      "image/png": "[encoded data removed]",
      "text/plain": [
       "<Figure size 432x288 with 1 Axes>"
      ]
     },
     "metadata": {
      "needs_background": "light"
     },
     "output_type": "display_data"
    }
   ],
   "source": [
    "import matplotlib.pyplot as plt\n",
    "\n",
    "plt.imshow(data[100, 1], cmap='gray')"
   ]
  },
  {
   "cell_type": "code",
   "execution_count": 5,
   "metadata": {},
   "outputs": [
    {
     "data": {
      "text/plain": [
       "(2, 16, 16, 8)"
      ]
     },
     "execution_count": 5,
     "metadata": {},
     "output_type": "execute_result"
    }
   ],
   "source": [
    "import numpy as np\n",
    "\n",
    "a, b = np.random.randn(16, 16, 8), np.random.randn(16, 16, 8)\n",
    "\n",
    "c = np.stack([a, b], axis=0)\n",
    "c.shape"
   ]
  },
  {
   "cell_type": "code",
   "execution_count": 10,
   "metadata": {},
   "outputs": [
    {
     "data": {
      "image/png": "[encoded data removed]",
      "text/plain": [
       "<Figure size 1152x288 with 16 Axes>"
      ]
     },
     "metadata": {
      "needs_background": "light"
     },
     "output_type": "display_data"
    }
   ],
   "source": [
    "import matplotlib.pyplot as plt\n",
    "\n",
    "plt.figure(figsize=(16, 4))\n",
    "for i in range(8):\n",
    "    plt.subplot(2, 8, i + 1)\n",
    "    plt.imshow(batch[i, 0, :, :].cpu().numpy(), cmap='gray')\n",
    "    plt.subplot(2, 8, i + 9)\n",
    "    plt.imshow(recon[i, 0, :, :].detach().cpu().numpy(), cmap='gray')\n",
    "    plt.axis('off')\n",
    "plt.show()"
   ]
  },
  {
   "cell_type": "code",
   "execution_count": 149,
   "metadata": {},
   "outputs": [
    {
     "name": "stderr",
     "output_type": "stream",
     "text": [
      "100%|██████████| 999/999 [03:37<00:00,  4.60it/s]\n"
     ]
    }
   ],
   "source": [
    "from radiomics.firstorder import RadiomicsFirstOrder\n",
    "from radiomics.shape import RadiomicsShape\n",
    "from radiomics.glcm import RadiomicsGLCM\n",
    "from tqdm import tqdm\n",
    "import numpy as np\n",
    "from scipy.ndimage import center_of_mass\n",
    "from SimpleITK import GetImageFromArray\n",
    "from scipy.ndimage import find_objects\n",
    "\n",
    "def compute_bounding_box(mask):\n",
    "    # find the bounding box of the binary mask\n",
    "    slices = find_objects(mask.astype(np.uint8))\n",
    "\n",
    "    # convert the slices to a tuple of (start, stop) pairs\n",
    "    bbox = []\n",
    "    for s in slices:\n",
    "        start = (s[0].start, s[1].start, s[2].start)\n",
    "        stop = (s[0].stop, s[1].stop, s[2].stop)\n",
    "        bbox.append((start, stop))\n",
    "\n",
    "    # return the bounding box\n",
    "    return bbox\n",
    "\n",
    "if __name__ == \"__main__\":\n",
    "    data = np.load('./data/brats_preprocessed.npy')\n",
    "    volumes, masks = data[:, 0, ...], data[:, 1, ...]\n",
    "\n",
    "    # transform volume and mask to niftii without saving but just for radiomics\n",
    "    radiomics = {\n",
    "        'voxel_volume': [], 'surface_area': [], 'surface_volume_ratio': [], 'sphericity': [],  # shape features\n",
    "        'autocorrelation': [], 'contrast': [],  # gray scale features\n",
    "        'x': [], 'y': [], 'z': [], 'w': [], 'h': [], 'd': [] # position features\n",
    "    }\n",
    "    for idx in tqdm(range(volumes.shape[0]), position=0, leave=True):\n",
    "        volume, mask = volumes[idx], masks[idx]\n",
    "\n",
    "        # position relate features\n",
    "        x, y ,z = center_of_mass(mask)\n",
    "        (x_a, y_a, z_a), (x_b, y_b, z_b) = compute_bounding_box(mask)[0]\n",
    "        w, h, d = x_b - x_a, y_b - y_a, z_b - z_a\n",
    "\n",
    "        volume = GetImageFromArray(volumes[idx])\n",
    "        mask = GetImageFromArray(masks[idx])\n",
    "\n",
    "        shape_radiomics = RadiomicsShape(volume, mask)\n",
    "        glcm_radiomics = RadiomicsGLCM(volume, mask)\n",
    "        \n",
    "        # get shape radiomics\n",
    "        voxel_volume = shape_radiomics.getVoxelVolumeFeatureValue()\n",
    "        surface_area = shape_radiomics.getSurfaceAreaFeatureValue()\n",
    "        surface_volume_ratio = shape_radiomics.getSurfaceVolumeRatioFeatureValue()\n",
    "        sphericity = shape_radiomics.getSphericityFeatureValue()\n",
    "\n",
    "        # get glcm radiomics\n",
    "        glcm_radiomics._initCalculation()\n",
    "        autocorrelation = glcm_radiomics.getAutocorrelationFeatureValue()\n",
    "        contrast = glcm_radiomics.getContrastFeatureValue()\n",
    "\n",
    "        # put all together\n",
    "        for feature_key, feature in zip(\n",
    "            radiomics.keys(),\n",
    "            [\n",
    "                voxel_volume, surface_area, surface_volume_ratio, sphericity, \n",
    "                autocorrelation[0], contrast[0],\n",
    "                x, y, z, w, h, d\n",
    "            ]\n",
    "        ):\n",
    "            radiomics[feature_key].append(feature)\n",
    "\n",
    "    # convert to numpy array\n",
    "    for key in radiomics.keys():\n",
    "        radiomics[key] = np.array(radiomics[key])\n",
    "\n",
    "    # normalizing features\n",
    "    radiomics['x'], radiomics['w'] = radiomics['x'] / mask.shape[0], radiomics['w'] / mask.shape[0]\n",
    "    radiomics['y'], radiomics['h'] = radiomics['y'] / mask.shape[1], radiomics['h'] / mask.shape[1]\n",
    "    radiomics['z'], radiomics['d'] = radiomics['z'] / mask.shape[2], radiomics['d'] / mask.shape[2]\n",
    "\n",
    "    radiomics['voxel_volume'] = radiomics['voxel_volume'] / np.max(radiomics['voxel_volume'])\n",
    "    radiomics['surface_area'] = radiomics['surface_area'] / np.max(radiomics['surface_area'])\n",
    "    # surface_area_volume ratio and sphericity are already comprised between 0 and 1\n",
    "\n",
    "    radiomics['autocorrelation'] = radiomics['autocorrelation'] / np.max(radiomics['autocorrelation'])\n",
    "    radiomics['contrast'] = radiomics['contrast'] / np.max(radiomics['contrast'])\n",
    "    \n"
   ]
  },
  {
   "cell_type": "code",
   "execution_count": 3,
   "metadata": {},
   "outputs": [],
   "source": [
    "import numpy as np\n",
    "data = np.load('./data/brats_preprocessed.npz')\n",
    "data = data['data']"
   ]
  },
  {
   "cell_type": "code",
   "execution_count": 7,
   "metadata": {},
   "outputs": [
    {
     "data": {
      "text/plain": [
       "467"
      ]
     },
     "execution_count": 7,
     "metadata": {},
     "output_type": "execute_result"
    }
   ],
   "source": [
    "np.argmax([v.max() for v in data[:, 0, ...]])"
   ]
  },
  {
   "cell_type": "code",
   "execution_count": 5,
   "metadata": {},
   "outputs": [
    {
     "data": {
      "text/plain": [
       "'BraTS2021_01163'"
      ]
     },
     "execution_count": 5,
     "metadata": {},
     "output_type": "execute_result"
    }
   ],
   "source": [
    "import os\n",
    "from nibabel import load\n",
    "\n",
    "files = os.listdir('../common_data/RSNA_ASNR_MICCAI_BraTS2021_TrainingData_16July2021')\n",
    "files[467]"
   ]
  },
  {
   "cell_type": "code",
   "execution_count": 13,
   "metadata": {},
   "outputs": [],
   "source": [
    "v = load('../common_data/RSNA_ASNR_MICCAI_BraTS2021_TrainingData_16July2021/BraTS2021_01163/BraTS2021_01163_flair.nii.gz').get_fdata()"
   ]
  },
  {
   "cell_type": "code",
   "execution_count": 14,
   "metadata": {},
   "outputs": [
    {
     "data": {
      "text/plain": [
       "612366.4375"
      ]
     },
     "execution_count": 14,
     "metadata": {},
     "output_type": "execute_result"
    }
   ],
   "source": [
    "v.max()"
   ]
  },
  {
   "cell_type": "code",
   "execution_count": 15,
   "metadata": {},
   "outputs": [
    {
     "name": "stderr",
     "output_type": "stream",
     "text": [
      "1251it [02:00, 10.37it/s]"
     ]
    },
    {
     "name": "stdout",
     "output_type": "stream",
     "text": [
      "467 612366.4375\n"
     ]
    },
    {
     "name": "stderr",
     "output_type": "stream",
     "text": [
      "\n"
     ]
    }
   ],
   "source": [
    "from tqdm import tqdm\n",
    "i, max = 0, 0\n",
    "for idx, f in tqdm(enumerate(files)):\n",
    "    v = load(f'../common_data/RSNA_ASNR_MICCAI_BraTS2021_TrainingData_16July2021/{f}/{f}_flair.nii.gz').get_fdata()\n",
    "    if v.max() > max:\n",
    "        max = v.max()\n",
    "        i = idx\n",
    "\n",
    "print(i, max)"
   ]
  },
  {
   "cell_type": "code",
   "execution_count": null,
   "metadata": {},
   "outputs": [],
   "source": [
    "from modules.data import BRATSDataModule\n",
    "\n",
    "datamodule = BRATSDataModule(\n",
    "    data_dir     = '../common_data/RSNA_ASNR_MICCAI_BraTS2021_TrainingData_16July2021/',\n",
    "    n_samples    = 1000,\n",
    "    modalities   = ['flair', 'seg'],\n",
    "    target_shape = (240, 240, 128),\n",
    "    binarize=True,\n",
    "    norm='centered-norm',\n",
    "    batch_size   = 16,\n",
    "    num_workers  = 16\n",
    ")\n",
    "\n",
    "datamodule.prepare_data()"
   ]
  },
  {
   "cell_type": "code",
   "execution_count": 6,
   "metadata": {},
   "outputs": [
    {
     "name": "stdout",
     "output_type": "stream",
     "text": [
      "data size: 117.96 GB\n"
     ]
    }
   ],
   "source": [
    "import numpy as np\n",
    "from sys import getsizeof\n",
    "\n",
    "# display size of data in GB\n",
    "\n",
    "print('data size: {:.2f} GB'.format(getsizeof(data) / 1e9))"
   ]
  },
  {
   "cell_type": "code",
   "execution_count": 3,
   "metadata": {},
   "outputs": [
    {
     "data": {
      "text/plain": [
       "467"
      ]
     },
     "execution_count": 3,
     "metadata": {},
     "output_type": "execute_result"
    }
   ],
   "source": [
    "np.argmax([volume.max() for volume in data[:, 0, ...]])"
   ]
  },
  {
   "cell_type": "code",
   "execution_count": null,
   "metadata": {},
   "outputs": [],
   "source": []
  },
  {
   "cell_type": "code",
   "execution_count": 5,
   "metadata": {},
   "outputs": [
    {
     "name": "stdout",
     "output_type": "stream",
     "text": [
      "voxel_volume: Max 1.0, Min 0.008945569649287796, Mean 0.2715123316540845\n",
      "surface_area: Max 1.0, Min 0.024318990019346714, Mean 0.28418457770974404\n",
      "surface_volume_ratio: Max 1.084740571277526, Min 0.21527868118742113, Mean 0.41200834776115575\n",
      "sphericity: Max 0.8558661053919444, Min 0.2411068155424384, Mean 0.5918284686018956\n",
      "autocorrelation: Max 1.0, Min 2.372179100342089e-05, Mean 0.005827837947241071\n",
      "contrast: Max 1.0, Min 3.984650567131488e-05, Mean 0.006119010836514069\n",
      "x: Max 0.7361332331299354, Min 0.26596607289950575, Mean 0.4920874897352733\n",
      "y: Max 0.7137472587719298, Min 0.20306892942583732, Mean 0.447867382021159\n",
      "z: Max 0.8131713591135233, Min 0.16205973129992737, Mean 0.5161439914303525\n",
      "w: Max 0.5390625, Min 0.078125, Mean 0.2542777152152152\n",
      "h: Max 0.6875, Min 0.09375, Mean 0.34473536036036034\n",
      "d: Max 0.890625, Min 0.140625, Mean 0.4251438938938939\n"
     ]
    }
   ],
   "source": [
    "for k in radiomics.keys():\n",
    "    print('{}: Max {}, Min {}, Mean {}'.format(k, np.max(radiomics[k]), np.min(radiomics[k]), np.mean(radiomics[k])))"
   ]
  },
  {
   "cell_type": "code",
   "execution_count": 16,
   "metadata": {},
   "outputs": [
    {
     "data": {
      "image/png": "[encoded data removed]",
      "text/plain": [
       "<Figure size 1152x288 with 1 Axes>"
      ]
     },
     "metadata": {
      "needs_background": "light"
     },
     "output_type": "display_data"
    }
   ],
   "source": [
    "import matplotlib.pyplot as plt\n",
    "\n",
    "plt.figure(figsize=(16, 4))\n",
    "plt.hist(-np.log(radiomics['autocorrelation']), bins=100)\n",
    "plt.show()"
   ]
  },
  {
   "cell_type": "code",
   "execution_count": null,
   "metadata": {},
   "outputs": [],
   "source": [
    "    # calculate the max, min, mean, and median values for each radiomics feature\n",
    "    max_values = np.max([list(r.values()) for r in radiomics], axis=0)\n",
    "    min_values = np.min([list(r.values()) for r in radiomics], axis=0, dtype=object)\n",
    "    mean_values = np.mean([list(r.values()) for r in radiomics], axis=0, dtype=object)\n",
    "    median_values = np.median([list(r.values()) for r in radiomics], axis=0, dtype=object)\n",
    "\n",
    "    # create the table header\n",
    "    header = '{:<20} {:<10} {:<10} {:<10} {:<10}'.format('Radiomics', 'Max', 'Min', 'Mean', 'Median')\n",
    "\n",
    "    # create the table rows\n",
    "    rows = ''\n",
    "    for key in radiomics[0].keys():\n",
    "        row = '{:<20} {:<10.2f} {:<10.2f} {:<10.2f} {:<10.2f}'.format(\n",
    "            key, \n",
    "            max_values[list(radiomics[0].keys()).index(key)], \n",
    "            min_values[list(radiomics[0].keys()).index(key)], \n",
    "            mean_values[list(radiomics[0].keys()).index(key)], \n",
    "            median_values[list(radiomics[0].keys()).index(key)]\n",
    "        )\n",
    "        rows += row + '\\n'\n",
    "\n",
    "    # combine the header and rows into a single string\n",
    "    log = header + '\\n' + rows\n",
    "\n",
    "    print(log)\n",
    "    \n",
    "    # saving\n",
    "    np.save('{}/radiomics.npy'.format(args.save_path), np.array(radiomics))"
   ]
  },
  {
   "cell_type": "code",
   "execution_count": 7,
   "metadata": {},
   "outputs": [
    {
     "name": "stdout",
     "output_type": "stream",
     "text": [
      "Setting up [baseline] perceptual loss: trunk [vgg], v[0.1], spatial [off]\n"
     ]
    },
    {
     "name": "stderr",
     "output_type": "stream",
     "text": [
      "/home/aghiles/anaconda3/envs/work/lib/python3.8/site-packages/torchvision/models/_utils.py:208: UserWarning: The parameter 'pretrained' is deprecated since 0.13 and may be removed in the future, please use 'weights' instead.\n",
      "  warnings.warn(\n",
      "/home/aghiles/anaconda3/envs/work/lib/python3.8/site-packages/torchvision/models/_utils.py:223: UserWarning: Arguments other than a weight enum or `None` for 'weights' are deprecated since 0.13 and may be removed in the future. The current behavior is equivalent to passing `weights=VGG16_Weights.IMAGENET1K_V1`. You can also use `weights=VGG16_Weights.DEFAULT` to get the most up-to-date weights.\n",
      "  warnings.warn(msg)\n"
     ]
    },
    {
     "name": "stdout",
     "output_type": "stream",
     "text": [
      "Setting up [baseline] perceptual loss: trunk [vgg], v[0.1], spatial [off]\n"
     ]
    }
   ],
   "source": [
    "import torch\n",
    "from modules.models.embedders.latent_embedders import VAE\n",
    "\n",
    "model_3d = VAE(\n",
    "    in_channels     = 1, \n",
    "    out_channels    = 1, \n",
    "    emb_channels    = 1,\n",
    "    spatial_dims    = 3, # 2D or 3D\n",
    "    hid_chs         = [32, 64, 128, 256], \n",
    "    kernel_sizes    = [3, 3, 3, 3],\n",
    "    strides         = [1, 2, 2, 2],\n",
    "    time_embedder   = None,\n",
    "    deep_supervision = False,\n",
    "    use_attention   = 'none', # ['none', 'none', 'none', 'spatial'],\n",
    "    loss            = torch.nn.MSELoss,\n",
    "    embedding_loss_weight = 1e-6,\n",
    "    optimizer_kwargs = {'lr': 1e-5}\n",
    ")\n",
    "\n",
    "model_2d = VAE(\n",
    "    in_channels     = 1, \n",
    "    out_channels    = 1, \n",
    "    emb_channels    = 1,\n",
    "    spatial_dims    = 2, # 2D or 3D\n",
    "    hid_chs         = [32, 64, 128, 256], \n",
    "    kernel_sizes    = [3, 3, 3, 3],\n",
    "    strides         = [1, 2, 2, 2],\n",
    "    time_embedder   = None,\n",
    "    deep_supervision = False,\n",
    "    use_attention   = 'none', # ['none', 'none', 'none', 'spatial'],\n",
    "    loss            = torch.nn.MSELoss,\n",
    "    embedding_loss_weight = 1e-6,\n",
    "    optimizer_kwargs = {'lr': 1e-5}\n",
    ")\n",
    "\n",
    "model_3d = model_3d.to('cuda')\n",
    "model_2d = model_2d.to('cuda')"
   ]
  },
  {
   "cell_type": "code",
   "execution_count": 11,
   "metadata": {},
   "outputs": [
    {
     "name": "stderr",
     "output_type": "stream",
     "text": [
      "100%|██████████| 1000/1000 [01:02<00:00, 16.12it/s]\n",
      "100%|██████████| 1000/1000 [00:47<00:00, 21.14it/s]"
     ]
    },
    {
     "name": "stdout",
     "output_type": "stream",
     "text": [
      "3D: 0.6204198908805847s\n",
      "2D: 0.47316832780838014s\n"
     ]
    },
    {
     "name": "stderr",
     "output_type": "stream",
     "text": [
      "\n"
     ]
    }
   ],
   "source": [
    "import time\n",
    "from tqdm import tqdm\n",
    "\n",
    "start = time.time()\n",
    "\n",
    "for _ in tqdm(range(1000)):\n",
    "    x = torch.randn(1, 1, 128, 128, 64).to('cuda')\n",
    "    x_hat, _, _ = model_3d(x)\n",
    "\n",
    "end = time.time()\n",
    "\n",
    "t_3d = (end - start) / 100\n",
    "\n",
    "start = time.time()\n",
    "\n",
    "for _ in tqdm(range(1000)):\n",
    "    x = torch.randn(64, 1, 128, 128).to('cuda')\n",
    "    x_hat, _, _ = model_2d(x)\n",
    "\n",
    "end = time.time()\n",
    "\n",
    "t_2d = (end - start) / 100\n",
    "\n",
    "print('3D: {}s'.format(t_3d))\n",
    "print('2D: {}s'.format(t_2d))"
   ]
  },
  {
   "cell_type": "code",
   "execution_count": 12,
   "metadata": {},
   "outputs": [
    {
     "name": "stdout",
     "output_type": "stream",
     "text": [
      "3D: 0.6204198908805847s\n",
      "2D: 0.47316832780838014s\n",
      "Ratio: 1.3112033380472525\n"
     ]
    }
   ],
   "source": [
    "print('3D: {}s'.format(t_3d))\n",
    "print('2D: {}s'.format(t_2d))\n",
    "print('Ratio: {}'.format(t_3d / t_2d))"
   ]
  },
  {
   "cell_type": "code",
   "execution_count": 19,
   "metadata": {},
   "outputs": [
    {
     "name": "stdout",
     "output_type": "stream",
     "text": [
      "Setting up [baseline] perceptual loss: trunk [vgg], v[0.1], spatial [off]\n"
     ]
    }
   ],
   "source": [
    "import torch\n",
    "from modules.models.pipelines import DiffusionPipeline\n",
    "from modules.models.estimators import UNet\n",
    "from modules.models.noise_schedulers import GaussianNoiseScheduler\n",
    "from modules.models.embedders import TimeEmbbeding\n",
    "from modules.models.embedders.latent_embedders import VAE\n",
    "\n",
    "latent_embedder = VAE(\n",
    "    in_channels     = 1, \n",
    "    out_channels    = 1, \n",
    "    emb_channels    = 1,\n",
    "    spatial_dims    = 2, # 2D or 3D\n",
    "    hid_chs         = [32, 64, 128, 256], \n",
    "    kernel_sizes    = [3, 3, 3, 3],\n",
    "    strides         = [1, 2, 2, 2],\n",
    "    time_embedder   = None,\n",
    "    deep_supervision = False,\n",
    "    use_attention   = 'none', # ['none', 'none', 'none', 'spatial'],\n",
    "    loss            = torch.nn.MSELoss,\n",
    "    embedding_loss_weight = 1e-6,\n",
    "    optimizer_kwargs = {'lr': 1e-5}\n",
    ").to('cuda')\n",
    "\n",
    "cond_embedder = None \n",
    "# cond_embedder = LabelEmbedder\n",
    "cond_embedder_kwargs = {\n",
    "    'emb_dim': 1024,\n",
    "    'num_classes': 2\n",
    "}\n",
    "\n",
    "\n",
    "time_embedder = TimeEmbbeding\n",
    "time_embedder_kwargs ={\n",
    "    'emb_dim': 1024 # stable diffusion uses 4*model_channels (model_channels is about 256)\n",
    "}\n",
    "\n",
    "noise_scheduler = GaussianNoiseScheduler\n",
    "noise_scheduler_kwargs = {\n",
    "    'timesteps': 1000,\n",
    "    'beta_start': 0.002, # 0.0001, 0.0015\n",
    "    'beta_end': 0.02, # 0.01, 0.0195\n",
    "    'schedule_strategy': 'cosine'\n",
    "}\n",
    "\n",
    "noise_estimator = UNet\n",
    "noise_estimator_kwargs = {\n",
    "    'in_ch': 1, \n",
    "    'out_ch': 1, \n",
    "    'spatial_dims': 2,\n",
    "    'hid_chs':  [256, 256, 512, 1024],\n",
    "    'kernel_sizes':[3, 3, 3, 3],\n",
    "    'strides':     [1, 2, 2, 2],\n",
    "    'time_embedder':time_embedder,\n",
    "    'time_embedder_kwargs': time_embedder_kwargs,\n",
    "    'cond_embedder':cond_embedder,\n",
    "    'cond_embedder_kwargs': cond_embedder_kwargs,\n",
    "    'deep_supervision': False,\n",
    "    'use_res_block':True,\n",
    "    'use_attention':'none',\n",
    "}\n",
    "\n",
    "pipeline = DiffusionPipeline(\n",
    "    noise_estimator=noise_estimator, \n",
    "    noise_estimator_kwargs=noise_estimator_kwargs,\n",
    "    noise_scheduler=noise_scheduler, \n",
    "    noise_scheduler_kwargs = noise_scheduler_kwargs,\n",
    "    latent_embedder=latent_embedder,\n",
    "    # latent_embedder_checkpoint = latent_embedder_checkpoint,\n",
    "    estimator_objective='x_T',\n",
    "    estimate_variance=False, \n",
    "    use_self_conditioning=False, \n",
    "    use_ema=False,\n",
    "    classifier_free_guidance_dropout=0.0, # Disable during training by setting to 0\n",
    "    do_input_centering=False,\n",
    "    clip_x0=False\n",
    ").to('cuda')"
   ]
  },
  {
   "cell_type": "code",
   "execution_count": 21,
   "metadata": {},
   "outputs": [
    {
     "name": "stderr",
     "output_type": "stream",
     "text": [
      "50it [00:01, 27.68it/s]\n",
      "50it [00:01, 27.83it/s]\n",
      "50it [00:01, 27.66it/s]\n",
      "50it [00:01, 27.71it/s]\n",
      "50it [00:01, 27.72it/s]\n",
      "50it [00:01, 27.85it/s]\n",
      "50it [00:01, 27.64it/s]\n",
      "50it [00:01, 27.46it/s]\n",
      "50it [00:01, 27.48it/s]\n",
      "50it [00:01, 27.55it/s]"
     ]
    },
    {
     "name": "stdout",
     "output_type": "stream",
     "text": [
      "3D: 1.8144766807556152s\n"
     ]
    },
    {
     "name": "stderr",
     "output_type": "stream",
     "text": [
      "\n"
     ]
    }
   ],
   "source": [
    "import time\n",
    "\n",
    "start = time.time()\n",
    "\n",
    "for _ in range(10):\n",
    "    sample_img = pipeline.sample(num_samples=1, img_size=(1, 128, 128), condition=None, steps=50, use_ddim=True).detach()\n",
    "\n",
    "end = time.time()\n",
    "\n",
    "t_3d = (end - start) / 10\n",
    "print('3D: {}s'.format(t_3d))"
   ]
  },
  {
   "cell_type": "code",
   "execution_count": 50,
   "metadata": {},
   "outputs": [
    {
     "name": "stdout",
     "output_type": "stream",
     "text": [
      "Setting up [baseline] perceptual loss: trunk [vgg], v[0.1], spatial [off]\n"
     ]
    },
    {
     "name": "stderr",
     "output_type": "stream",
     "text": [
      "/home/aghiles/anaconda3/envs/work/lib/python3.8/site-packages/torchvision/models/_utils.py:208: UserWarning: The parameter 'pretrained' is deprecated since 0.13 and may be removed in the future, please use 'weights' instead.\n",
      "  warnings.warn(\n",
      "/home/aghiles/anaconda3/envs/work/lib/python3.8/site-packages/torchvision/models/_utils.py:223: UserWarning: Arguments other than a weight enum or `None` for 'weights' are deprecated since 0.13 and may be removed in the future. The current behavior is equivalent to passing `weights=VGG16_Weights.IMAGENET1K_V1`. You can also use `weights=VGG16_Weights.DEFAULT` to get the most up-to-date weights.\n",
      "  warnings.warn(msg)\n",
      "/home/aghiles/anaconda3/envs/work/lib/python3.8/site-packages/pytorch_lightning/utilities/parsing.py:196: UserWarning: Attribute 'latent_embedder' is an instance of `nn.Module` and is already saved during checkpointing. It is recommended to ignore them using `self.save_hyperparameters(ignore=['latent_embedder'])`.\n",
      "  rank_zero_warn(\n"
     ]
    }
   ],
   "source": [
    "latent_embedder = VAE\n",
    "latent_embedder_checkpoint = './runs/first_stage-2023_08_11_230709 (best AE so far + mask)/epoch=489-step=807030.ckpt'\n",
    "\n",
    "latent_embedder = latent_embedder.load_from_checkpoint(latent_embedder_checkpoint, time_embedder=None)\n",
    "\n",
    "pipeline = DiffusionPipeline.load_from_checkpoint(\n",
    "    './runs/2023_08_16_113818 (continuity)/epoch=999-step=63000.ckpt', \n",
    "    latent_embedder=latent_embedder.to('cuda'),\n",
    ").to('cuda')"
   ]
  },
  {
   "cell_type": "code",
   "execution_count": 65,
   "metadata": {},
   "outputs": [
    {
     "name": "stderr",
     "output_type": "stream",
     "text": [
      "300it [00:11, 26.05it/s]\n"
     ]
    },
    {
     "data": {
      "image/png": "[encoded data removed]",
      "text/plain": [
       "<Figure size 1728x864 with 8 Axes>"
      ]
     },
     "metadata": {
      "needs_background": "light"
     },
     "output_type": "display_data"
    },
    {
     "data": {
      "image/png": "[encoded data removed]",
      "text/plain": [
       "<Figure size 1728x864 with 8 Axes>"
      ]
     },
     "metadata": {
      "needs_background": "light"
     },
     "output_type": "display_data"
    }
   ],
   "source": [
    "import matplotlib.pyplot as plt\n",
    "import numpy as np\n",
    "\n",
    "img = pipeline.sample(num_samples=1, img_size=(8, 128, 128), condition=None, use_ddim=True, steps=300).detach()\n",
    "img = img.reshape(1, 8, 64, 16, 16).squeeze(0).permute(1, 0, 2, 3)\n",
    "decoded_slices = latent_embedder.decode(img, emb=None).detach()\n",
    "\n",
    "decoded_slices[:, 1] = decoded_slices[:, 1].clip_(-1, 1).add_(1).mul_(0.5).round_()\n",
    "\n",
    "plt.figure(figsize=(24, 12))\n",
    "for idx, s in enumerate(np.arange(64, step=8)):\n",
    "    plt.subplot(1, 8, idx + 1)\n",
    "    plt.imshow(decoded_slices[s, 0, ...].cpu().numpy(), cmap='gray')\n",
    "    plt.axis('off')\n",
    "plt.show()\n",
    "\n",
    "plt.figure(figsize=(24, 12))\n",
    "for idx, s in enumerate(np.arange(64, step=8)):\n",
    "    plt.subplot(1, 8, idx + 1)\n",
    "    plt.imshow(decoded_slices[s, 1, ...].cpu().numpy(), cmap='gray')\n",
    "    plt.axis('off')\n",
    "plt.show()"
   ]
  },
  {
   "attachments": {},
   "cell_type": "markdown",
   "metadata": {},
   "source": [
    "## --------------------------------------------------------"
   ]
  },
  {
   "cell_type": "code",
   "execution_count": 2,
   "metadata": {},
   "outputs": [],
   "source": [
    "import torch\n",
    "from modules.data import BRATSDataModule\n",
    "\n",
    "\n",
    "dm = BRATSDataModule(\n",
    "    data_dir        = './data/brats_preprocessed.npy',\n",
    "    train_ratio     = 0.95,\n",
    "    norm            = 'centered-norm',\n",
    "    batch_size      = 8,\n",
    "    num_workers     = 6,\n",
    "    shuffle         = True,\n",
    "    horizontal_flip = 0.5,\n",
    "    vertical_flip   = 0.5,\n",
    "    slice_wise      = False,\n",
    "    drop_channels   = [0]\n",
    ")"
   ]
  },
  {
   "cell_type": "code",
   "execution_count": 3,
   "metadata": {},
   "outputs": [
    {
     "name": "stderr",
     "output_type": "stream",
     "text": [
      "Normalizing data: 100%|██████████| 1000/1000 [00:01<00:00, 864.73it/s]\n"
     ]
    },
    {
     "name": "stdout",
     "output_type": "stream",
     "text": [
      "\n",
      "        DataModule setup complete.\n",
      "        Number of training samples: 950\n",
      "        Number of validation samples: 50\n",
      "        Data shape: torch.Size([1000, 1, 128, 128, 64])\n",
      "        Maximum: 1.0, Minimum: -1.0\n",
      "        \n"
     ]
    }
   ],
   "source": [
    "dm.setup()\n",
    "loader = dm.train_dataloader()"
   ]
  },
  {
   "cell_type": "code",
   "execution_count": null,
   "metadata": {},
   "outputs": [],
   "source": [
    "import torch.nn as nn\n",
    "\n",
    "class MaskReconstructionLoss(nn.Module):\n",
    "    def __init__(self, alpha_dice=1.0, alpha_mse=1.0, alpha_acc=1.0):\n",
    "        \"\"\"\n",
    "        Custom loss function for binary masks with spatial consistency loss.\n",
    "\n",
    "        Args:\n",
    "        - alpha_dice (float): Weight for Dice loss.\n",
    "        - alpha_mse (float): Weight for MSE loss.\n",
    "        - alpha_acc (float): Weight for accuracy loss.\n",
    "        \"\"\"\n",
    "        super(MaskReconstructionLoss, self).__init__()\n",
    "        self.alpha_dice = alpha_dice\n",
    "        self.alpha_mse = alpha_mse\n",
    "        self.alpha_acc = alpha_acc\n",
    "\n",
    "    def forward(self, mask_pred, mask_target):\n",
    "        \"\"\"\n",
    "        Forward pass of the custom loss.\n",
    "\n",
    "        Args:\n",
    "        - mask_pred (torch.Tensor): Predicted masks of shape (batch_size, 1, 128, 128, 64).\n",
    "        - mask_target (torch.Tensor): Target masks of the same shape as mask_pred.\n",
    "\n",
    "        Returns:\n",
    "        - loss (torch.Tensor): Combined loss.\n",
    "        \"\"\"\n",
    "        dims = (1, 2, 3) + ((4,) if mask_pred.dim() == 5 else ())\n",
    "\n",
    "        # Dice Loss\n",
    "        dice_loss = 1 - (2 * (mask_pred * mask_target).sum(dim=dims) + 1) / (mask_pred.sum(dim=dims) + mask_target.sum(dim=dims) + 1)\n",
    "\n",
    "        # MSE Loss\n",
    "        mse_loss = nn.functional.mse_loss(mask_pred, mask_target, reduction='none').mean(dim=dims)\n",
    "\n",
    "        # Accuracy Loss\n",
    "        acc_loss = (mask_pred == mask_target).float().mean(dim=dims)\n",
    "\n",
    "        # Combine the losses with the specified weights\n",
    "        loss = (self.alpha_dice * dice_loss) + (self.alpha_mse * mse_loss) + (self.alpha_acc * acc_loss)\n",
    "\n",
    "        return loss\n",
    "    \n",
    "m = MaskReconstructionLoss(alpha_dice=0.0, alpha_mse=1.0, alpha_acc=0.0)\n",
    "\n",
    "mask_pred = torch.bernoulli(torch.empty(8, 1, 128, 128, 64).fill_(0.3)).float()\n",
    "mask_target = torch.bernoulli(torch.empty(8, 1, 128, 128, 64).fill_(0.7)).float()\n",
    "\n",
    "m(mask_pred, mask_target)\n"
   ]
  },
  {
   "cell_type": "code",
   "execution_count": 4,
   "metadata": {},
   "outputs": [
    {
     "name": "stdout",
     "output_type": "stream",
     "text": [
      "Setting up [baseline] perceptual loss: trunk [vgg], v[0.1], spatial [off]\n"
     ]
    },
    {
     "name": "stderr",
     "output_type": "stream",
     "text": [
      "/home/aghiles/anaconda3/envs/work/lib/python3.8/site-packages/torchvision/models/_utils.py:208: UserWarning: The parameter 'pretrained' is deprecated since 0.13 and may be removed in the future, please use 'weights' instead.\n",
      "  warnings.warn(\n",
      "/home/aghiles/anaconda3/envs/work/lib/python3.8/site-packages/torchvision/models/_utils.py:223: UserWarning: Arguments other than a weight enum or `None` for 'weights' are deprecated since 0.13 and may be removed in the future. The current behavior is equivalent to passing `weights=VGG16_Weights.IMAGENET1K_V1`. You can also use `weights=VGG16_Weights.DEFAULT` to get the most up-to-date weights.\n",
      "  warnings.warn(msg)\n"
     ]
    }
   ],
   "source": [
    "from modules.models.embedders.latent_embedders import VAE\n",
    "\n",
    "vae = VAE.load_from_checkpoint('./runs/mask-embedder-2023_09_05_161605-VAgTys/last.ckpt')\n",
    "vae = vae.to('cuda')"
   ]
  },
  {
   "cell_type": "code",
   "execution_count": 5,
   "metadata": {},
   "outputs": [],
   "source": [
    "batch = next(iter(loader))"
   ]
  },
  {
   "cell_type": "code",
   "execution_count": 15,
   "metadata": {},
   "outputs": [
    {
     "data": {
      "text/plain": [
       "<matplotlib.image.AxesImage at 0x7f861eafe3a0>"
      ]
     },
     "execution_count": 15,
     "metadata": {},
     "output_type": "execute_result"
    },
    {
     "data": {
      "image/png": "[encoded data removed]",
      "text/plain": [
       "<Figure size 432x288 with 1 Axes>"
      ]
     },
     "metadata": {
      "needs_background": "light"
     },
     "output_type": "display_data"
    }
   ],
   "source": [
    "plt.imshow(batch[0][0, 0, :, :, 40].cpu().detach(), cmap='gray')"
   ]
  },
  {
   "cell_type": "code",
   "execution_count": 7,
   "metadata": {},
   "outputs": [],
   "source": [
    "o = vae(batch[0].to('cuda'))"
   ]
  },
  {
   "cell_type": "code",
   "execution_count": 16,
   "metadata": {},
   "outputs": [
    {
     "data": {
      "text/plain": [
       "<matplotlib.image.AxesImage at 0x7f85e0b7bb50>"
      ]
     },
     "execution_count": 16,
     "metadata": {},
     "output_type": "execute_result"
    },
    {
     "data": {
      "image/png": "[encoded data removed]",
      "text/plain": [
       "<Figure size 432x288 with 1 Axes>"
      ]
     },
     "metadata": {
      "needs_background": "light"
     },
     "output_type": "display_data"
    }
   ],
   "source": [
    "import matplotlib.pyplot as plt\n",
    "\n",
    "plt.imshow(o[0][0, 0, :, :, 40].cpu().detach().round(), cmap='gray')"
   ]
  },
  {
   "cell_type": "code",
   "execution_count": 77,
   "metadata": {},
   "outputs": [
    {
     "name": "stderr",
     "output_type": "stream",
     "text": [
      "50it [00:01, 25.99it/s]\n"
     ]
    },
    {
     "data": {
      "image/png": "[encoded data removed]",
      "text/plain": [
       "<Figure size 1728x864 with 8 Axes>"
      ]
     },
     "metadata": {
      "needs_background": "light"
     },
     "output_type": "display_data"
    },
    {
     "data": {
      "image/png": "[encoded data removed]",
      "text/plain": [
       "<Figure size 1728x864 with 8 Axes>"
      ]
     },
     "metadata": {
      "needs_background": "light"
     },
     "output_type": "display_data"
    }
   ],
   "source": [
    "import matplotlib.pyplot as plt\n",
    "import numpy as np\n",
    "\n",
    "img = pipeline.sample(num_samples=1, img_size=(8, 128, 128), condition=None, use_ddim=True, steps=50).detach()\n",
    "img = img.reshape(1, 8, 64, 16, 16).squeeze(0).permute(1, 0, 2, 3)\n",
    "decoded_slices = latent_embedder.decode(img, emb=None).detach()\n",
    "\n",
    "decoded_slices[:, 1] = decoded_slices[:, 1].clip_(-1, 1).add_(1).mul_(0.5).round_()\n",
    "\n",
    "plt.figure(figsize=(24, 12))\n",
    "for idx, s in enumerate(np.arange(64, step=8)):\n",
    "    plt.subplot(1, 8, idx + 1)\n",
    "    plt.imshow(decoded_slices[s, 0, ...].cpu().numpy(), cmap='gray')\n",
    "    plt.axis('off')\n",
    "plt.show()\n",
    "\n",
    "plt.figure(figsize=(24, 12))\n",
    "for idx, s in enumerate(np.arange(64, step=8)):\n",
    "    plt.subplot(1, 8, idx + 1)\n",
    "    plt.imshow(decoded_slices[s, 1, ...].cpu().numpy(), cmap='gray')\n",
    "    plt.axis('off')\n",
    "plt.show()"
   ]
  },
  {
   "cell_type": "code",
   "execution_count": null,
   "metadata": {},
   "outputs": [],
   "source": [
    "import time\n",
    "\n",
    "start = time.time()\n",
    "\n",
    "for _ in range(10):\n",
    "    sample_img = pipeline.sample(num_samples=1, img_size=(1, 64, 16, 16), condition=None).detach()\n",
    "\n",
    "end = time.time()\n",
    "\n",
    "t_3d = (end - start) / 10\n",
    "print('3D: {}s'.format(t_3d))"
   ]
  },
  {
   "cell_type": "code",
   "execution_count": 65,
   "metadata": {},
   "outputs": [
    {
     "name": "stdout",
     "output_type": "stream",
     "text": [
      "Original Latents Shape: torch.Size([1, 9, 1, 2, 2])\n",
      "Stacked Latents Shape: torch.Size([1, 2, 6, 6])\n",
      "Reconstructed Latents Shape: torch.Size([1, 9, 1, 2, 2])\n"
     ]
    }
   ],
   "source": [
    "import torch\n",
    "import torch.nn.functional as F\n",
    "\n",
    "def spatially_stack_latents(latents, grid_size, index_channel=False):\n",
    "    batch_size, num_latents, num_channels, height, width = latents.size()\n",
    "    latents_stacked = latents.permute(0, 2, 1, 3, 4).contiguous()  # Rearrange dimensions\n",
    "    \n",
    "    grid_height = grid_size[0]\n",
    "    grid_width = grid_size[1]\n",
    "    \n",
    "    num_cols = num_latents // grid_height\n",
    "    num_rows = num_latents // grid_width\n",
    "    \n",
    "    assert num_cols * num_rows == num_latents, \"Grid size is not compatible with number of latents\"\n",
    "\n",
    "    latents_stacked = latents_stacked.view(batch_size, num_channels, num_rows, num_cols, height, width)\n",
    "    latents_stacked = latents_stacked.permute(0, 1, 2, 4, 3, 5).contiguous()  # Rearrange dimensions\n",
    "    latents_stacked = latents_stacked.view(batch_size, num_channels, num_rows * height, num_cols * width)\n",
    "\n",
    "    if index_channel:\n",
    "        # generating an index channel\n",
    "        index_channel = torch.ones(batch_size, 1, num_rows * height, num_cols * width)\n",
    "        for i in range(num_rows):\n",
    "            for j in range(num_cols):\n",
    "                index_channel[:, :, i * height : (i + 1) * height, j * width : (j + 1) * width] *= (i * num_cols + j)\n",
    "        \n",
    "        # Add index channel\n",
    "        latents_stacked = torch.cat([latents_stacked, index_channel.to(latents_stacked.device)], dim=1)\n",
    "    \n",
    "    return latents_stacked\n",
    "\n",
    "def reverse_spatial_stack(latents_stacked, shape, index_channel=False):\n",
    "    if index_channel: # we drop the index channel\n",
    "        latents_stacked = latents_stacked[:, :-1, ...]\n",
    "\n",
    "    batch_size, num_channels, height, width = latents_stacked.size()\n",
    "    orig_height, orig_width = shape\n",
    "    num_cols = width // orig_width\n",
    "    num_rows = height // orig_height\n",
    "\n",
    "    latents_stacked = latents_stacked.reshape(batch_size, num_channels, num_rows, orig_height, num_cols, orig_width)\n",
    "    latents_stacked = latents_stacked.permute(0, 1, 2, 4, 3, 5).contiguous()  # Rearrange dimensions\n",
    "    latents_stacked = latents_stacked.reshape(batch_size, num_channels, num_rows * num_cols, orig_height, orig_width)\n",
    "    \n",
    "    # channels first\n",
    "    latents_stacked = latents_stacked.permute(0, 2, 1, 3, 4).contiguous()  # Rearrange dimensions\n",
    "\n",
    "    return latents_stacked\n",
    "\n",
    "# Example usage\n",
    "batch_size = 1\n",
    "num_latents = 9\n",
    "num_channels = 1\n",
    "height = 2\n",
    "width = 2\n",
    "latents = torch.ones(batch_size, num_latents, num_channels, height, width)\n",
    "for idx in range(num_latents):\n",
    "    latents[:, idx, :, :, :] *= idx\n",
    "\n",
    "grid_size = (3, 3)  # Grid of 4x16 latents\n",
    "latents_stacked = spatially_stack_latents(latents, grid_size, index_channel=True)\n",
    "reconstructed_latents = reverse_spatial_stack(latents_stacked, shape=(2, 2), index_channel=True)\n",
    "\n",
    "print(\"Original Latents Shape:\", latents.shape)\n",
    "print(\"Stacked Latents Shape:\", latents_stacked.shape) \n",
    "print(\"Reconstructed Latents Shape:\", reconstructed_latents.shape)"
   ]
  },
  {
   "cell_type": "code",
   "execution_count": 1,
   "metadata": {},
   "outputs": [
    {
     "data": {
      "text/plain": [
       "torch.Size([512, 512])"
      ]
     },
     "execution_count": 1,
     "metadata": {},
     "output_type": "execute_result"
    }
   ],
   "source": [
    "import torch\n",
    "x = torch.randn(4, 2, 128, 128)\n",
    "x_hat = torch.randn(4, 2, 128, 128)\n",
    "\n",
    "originals = torch.cat([\n",
    "    torch.hstack([img for img in x[:, idx, ...]])\n",
    "    for idx in range(x.shape[1])\n",
    "], dim=0)\n",
    "\n",
    "reconstructed = torch.cat([\n",
    "    torch.hstack([img for img in x_hat[:, idx, ...]])\n",
    "    for idx in range(x_hat.shape[1])\n",
    "], dim=0)\n",
    "\n",
    "img = torch.cat([originals, reconstructed], dim=0)\n",
    "img.shape"
   ]
  },
  {
   "cell_type": "code",
   "execution_count": 1,
   "metadata": {},
   "outputs": [],
   "source": [
    "import numpy as np\n",
    "\n",
    "data = np.load('./data/brats_preprocessed.npy')"
   ]
  },
  {
   "cell_type": "code",
   "execution_count": 35,
   "metadata": {},
   "outputs": [
    {
     "data": {
      "text/plain": [
       "tensor([[0, 1, 0, 0],\n",
       "        [0, 1, 1, 0],\n",
       "        [0, 1, 0, 1],\n",
       "        [1, 1, 1, 1]])"
      ]
     },
     "execution_count": 35,
     "metadata": {},
     "output_type": "execute_result"
    }
   ],
   "source": [
    "import torch\n",
    "\n",
    "x = torch.randint(0, 2, size=(4, 4))\n",
    "\n",
    "x"
   ]
  },
  {
   "cell_type": "code",
   "execution_count": 5,
   "metadata": {},
   "outputs": [
    {
     "name": "stdout",
     "output_type": "stream",
     "text": [
      "Setting up [baseline] perceptual loss: trunk [vgg], v[0.1], spatial [off]\n"
     ]
    },
    {
     "name": "stderr",
     "output_type": "stream",
     "text": [
      "/home/aghiles/anaconda3/envs/work/lib/python3.8/site-packages/torchvision/models/_utils.py:208: UserWarning: The parameter 'pretrained' is deprecated since 0.13 and may be removed in the future, please use 'weights' instead.\n",
      "  warnings.warn(\n",
      "/home/aghiles/anaconda3/envs/work/lib/python3.8/site-packages/torchvision/models/_utils.py:223: UserWarning: Arguments other than a weight enum or `None` for 'weights' are deprecated since 0.13 and may be removed in the future. The current behavior is equivalent to passing `weights=VGG16_Weights.IMAGENET1K_V1`. You can also use `weights=VGG16_Weights.DEFAULT` to get the most up-to-date weights.\n",
      "  warnings.warn(msg)\n"
     ]
    }
   ],
   "source": [
    "from modules.models.embedders.latent_embedders import VAEGAN\n",
    "import torch\n",
    "\n",
    "model = VAEGAN(\n",
    "    in_channels     = 1, \n",
    "    out_channels    = 1, \n",
    "    emb_channels    = 2,\n",
    "    spatial_dims    = 2,\n",
    "    hid_chs         = [64, 128, 256, 512],\n",
    "    deep_supervision = False,\n",
    "    use_attention   = ['none', 'none', 'none', 'spatial'],\n",
    "    start_gan_train_step = -1,\n",
    "    embedding_loss_weight = 1e-6,\n",
    ")"
   ]
  },
  {
   "cell_type": "code",
   "execution_count": 8,
   "metadata": {},
   "outputs": [
    {
     "data": {
      "text/plain": [
       "[]"
      ]
     },
     "execution_count": 8,
     "metadata": {},
     "output_type": "execute_result"
    }
   ],
   "source": [
    "o = model(torch.randn(4, 1, 128, 128))\n",
    "o[1]"
   ]
  },
  {
   "cell_type": "code",
   "execution_count": 2,
   "metadata": {},
   "outputs": [
    {
     "name": "stdout",
     "output_type": "stream",
     "text": [
      "(64000, 1, 128, 128)\n",
      "1.0 -1.0\n"
     ]
    }
   ],
   "source": [
    "import numpy as np\n",
    "data = np.load('./brats_preprocessed.npy', allow_pickle=True)\n",
    "data = data[:, 0, None]\n",
    "data = data.transpose(0, 4, 1, 2, 3) # depth first\n",
    "\n",
    "norm = lambda data: (2 * data - data.min() - data.max()) / (data.max() - data.min())\n",
    "for idx in range(data.shape[0]):\n",
    "    data[idx] = norm(data[idx]).astype(np.float32)\n",
    "\n",
    "data = data.reshape(-1, 1, 128, 128)\n",
    "\n",
    "print(data.shape)\n",
    "print(data.max(), data.min())"
   ]
  },
  {
   "cell_type": "code",
   "execution_count": 31,
   "metadata": {},
   "outputs": [
    {
     "data": {
      "image/png": "[encoded data removed]",
      "text/plain": [
       "<Figure size 432x288 with 1 Axes>"
      ]
     },
     "metadata": {
      "needs_background": "light"
     },
     "output_type": "display_data"
    },
    {
     "data": {
      "text/plain": [
       "<matplotlib.image.AxesImage at 0x7f7c8c341670>"
      ]
     },
     "execution_count": 31,
     "metadata": {},
     "output_type": "execute_result"
    },
    {
     "data": {
      "image/png": "[encoded data removed]",
      "text/plain": [
       "<Figure size 432x288 with 1 Axes>"
      ]
     },
     "metadata": {
      "needs_background": "light"
     },
     "output_type": "display_data"
    }
   ],
   "source": [
    "import matplotlib.pyplot as plt\n",
    "\n",
    "idx = 300\n",
    "\n",
    "# original\n",
    "plt.imshow(data[idx, 0, :, :], cmap='gray')\n",
    "plt.show()\n",
    "\n",
    "import torch\n",
    "\n",
    "x = torch.from_numpy(data[idx, None, :, :, :]).to('cuda', torch.float32)\n",
    "recon, _, _ = vae(x)\n",
    "plt.imshow(recon[0, 0].detach().cpu().numpy(), cmap='gray')"
   ]
  },
  {
   "cell_type": "code",
   "execution_count": 2,
   "metadata": {},
   "outputs": [
    {
     "ename": "",
     "evalue": "",
     "output_type": "error",
     "traceback": [
      "\u001b[1;31mCannot execute code, session has been disposed. Please try restarting the Kernel."
     ]
    },
    {
     "ename": "",
     "evalue": "",
     "output_type": "error",
     "traceback": [
      "\u001b[1;31mThe Kernel crashed while executing code in the the current cell or a previous cell. Please review the code in the cell(s) to identify a possible cause of the failure. Click <a href='https://aka.ms/vscodeJupyterKernelCrash'>here</a> for more info. View Jupyter <a href='command:jupyter.viewOutput'>log</a> for further details."
     ]
    }
   ],
   "source": [
    "import torch\n",
    "import numpy as np\n",
    "\n",
    "from medical_diffusion.models.embedders.latent_embedders import VAE\n",
    "from medical_diffusion.data.datamodules import SimpleDataModule\n",
    "\n",
    "class IdentityDataset(torch.utils.data.Dataset):\n",
    "    def __init__(self, *data):\n",
    "        self.data = data\n",
    "\n",
    "    def __len__(self):\n",
    "        return self.data[-1].__len__()\n",
    "\n",
    "    def __getitem__(self, index):\n",
    "        return [d[index] for d in self.data]"
   ]
  },
  {
   "cell_type": "code",
   "execution_count": 1,
   "metadata": {},
   "outputs": [],
   "source": [
    "import pytorch_lightning.utilities.cloud_io as plcloud"
   ]
  },
  {
   "cell_type": "code",
   "execution_count": 10,
   "metadata": {},
   "outputs": [],
   "source": [
    "data = np.load('./brats_preprocessed.npy', allow_pickle=True)\n",
    "data = data[:, 0, None, ..., 32]\n",
    "\n",
    "norm = lambda data: (2 * data - data.min() - data.max()) / (data.max() - data.min())\n",
    "for idx in range(data.shape[0]):\n",
    "    data[idx] = norm(data[idx]).astype(np.float32)\n",
    "\n",
    "dataset = IdentityDataset(data)\n",
    "\n",
    "dm = SimpleDataModule(\n",
    "    ds_train = dataset,\n",
    "    batch_size=8, \n",
    "    num_workers=0,\n",
    "    pin_memory=False\n",
    ") "
   ]
  },
  {
   "cell_type": "code",
   "execution_count": 17,
   "metadata": {},
   "outputs": [],
   "source": [
    "import pytorch_lightning as pl"
   ]
  },
  {
   "cell_type": "code",
   "execution_count": 11,
   "metadata": {},
   "outputs": [],
   "source": [
    "dm.prepare_data()\n",
    "dm.setup(stage='train')"
   ]
  },
  {
   "cell_type": "code",
   "execution_count": 12,
   "metadata": {},
   "outputs": [],
   "source": [
    "loader = dm.train_dataloader()"
   ]
  },
  {
   "cell_type": "code",
   "execution_count": 13,
   "metadata": {},
   "outputs": [],
   "source": [
    "b = next(iter(loader))"
   ]
  },
  {
   "cell_type": "code",
   "execution_count": null,
   "metadata": {},
   "outputs": [],
   "source": []
  },
  {
   "attachments": {},
   "cell_type": "markdown",
   "metadata": {},
   "source": [
    "\\begin{table}[t]\n",
    "\\footnotesize\n",
    "\\centering\n",
    "\\resizebox{\\columnwidth}{!}{%\n",
    "\\begin{tabular}{@{}clccccc@{}}\n",
    "\\toprule\n",
    "\\multicolumn{2}{c}{\\multirow{2}{*}{Methods}} & \\multicolumn{5}{c}{Number of training volumes} \\\\ \\cmidrule(l){3-7} \n",
    "                         &                         & 10 & 20 & 30 & 40 & 50 \\\\ \\cmidrule(r){1-2} \\cmidrule(lr){3-3} \\cmidrule(lr){4-4} \\cmidrule(lr){5-5} \\cmidrule(lr){6-6} \\cmidrule(l){7-7}\n",
    "\\multirow{3}{*}{BRATS}   & Reference               & 0.604$\\pm$0.07 & 0.620$\\pm$0.06 & 0.663$\\pm$0.04 & 0.672$\\pm$0.05 & 0.703$\\pm$0.01 \\\\\n",
    "                         & Ours ($\\alpha = 0.01$)  & 0.790$\\pm$0.01 & 0.818$\\pm$0.01 & 0.842$\\pm$0.01 & 0.808$\\pm$0.02 & 0.821$\\pm$0.01 \\\\ \n",
    "                         & Ours + Aug. ($\\times$5) & \\textbf{0.799$\\pm$0.02} & \\textbf{0.828$\\pm$0.01} & \\textbf{0.845$\\pm$0.01} & \\textbf{0.822$\\pm$0.03} & \\textbf{0.840$\\pm$0.03} \\\\ \\cmidrule(r){1-2} \\cmidrule(lr){3-3} \\cmidrule(lr){4-4} \\cmidrule(lr){5-5} \\cmidrule(lr){6-6} \\cmidrule(l){7-7}\n",
    "\\multirow{3}{*}{HECKTOR} & Reference               & 0.454$\\pm$0.11  & 0.528$\\pm$0.10  & 0.542$\\pm$0.02  & 0.629$\\pm$0.04  & 0.648$\\pm$0.04  \\\\\n",
    "                         & Ours ($\\alpha = 0.01$)  & 0.596$\\pm$0.04  & 0.622$\\pm$0.04  & 0.672$\\pm$0.01  & 0.679$\\pm$0.01  & 0.688$\\pm$0.03  \\\\\n",
    "                         & Ours + Aug. ($\\times$5) & \\textbf{0.668$\\pm$0.01}  & \\textbf{0.627$\\pm$0.03}  & \\textbf{0.680$\\pm$0.01} & \\textbf{0.684$\\pm$0.01} & \\textbf{0.696$\\pm$0.01}  \\\\ \\bottomrule\n",
    "\\end{tabular}%\n",
    "}\n",
    "\\caption{Quantitative performance of the our approach evaluated in terms of DSC (\\%↑)  with respect to the base number of real volumes used for training. We also present an augmented variant of our approach in conjunction with standard augmentation methods, resulting in additional performance enhancement. \\label{tab:volumes}}\n",
    "\\end{table}"
   ]
  },
  {
   "attachments": {},
   "cell_type": "markdown",
   "metadata": {},
   "source": [
    "\\begin{table}[h]\n",
    "\\centering\n",
    "\\resizebox{8cm}{!}{\n",
    "\\begin{tabular}{@{}cccc@{}}\n",
    "\\toprule\n",
    "\\multicolumn{2}{c}{Methods}                                    & BRATS & HECKTOR \\\\ \\cmidrule(r){1-2} \\cmidrule(lr){3-3} \\cmidrule(l){4-4}\n",
    "\\multicolumn{2}{c}{Reference}                                  & 0.663$\\pm$0.04 & 0542$\\pm$0.02       \\\\ \\cmidrule(r){1-2} \\cmidrule(lr){3-3} \\cmidrule(l){4-4}\n",
    "\\multicolumn{2}{c}{Augmented ($\\times$2)}                      & 0.786$\\pm$0.01              & 0.563$\\pm$0.04        \\\\\n",
    "\\multicolumn{2}{c}{Augmented ($\\times$3)}                      & 0.798$\\pm$0.01              & 0.587$\\pm$0.13      \\\\\n",
    "\\multicolumn{2}{c}{Augmented ($\\times$5)}                      & 0.810$\\pm$0.01              & 0.658$\\pm$0.14  \\\\ \\cmidrule(r){1-2} \\cmidrule(lr){3-3} \\cmidrule(l){4-4}\n",
    "\\multirow{4}{*}{LSGAN}                  & + 500 synthetic  & 0.703$\\pm$0.03 & 0.609$\\pm$0.11 \\\\\n",
    "                                        & + 1000 synthetic & 0.720$\\pm$0.04 & 0.622$\\pm$0.03 \\\\\n",
    "                                        & + 1500 synthetic & 0.697$\\pm$0.03 & 0.617$\\pm$0.03 \\\\\n",
    "                                        & + 2000 synthetic & 0.676$\\pm$0.06 & 0570$\\pm$0.02  \\\\\n",
    "                                        \\cmidrule(r){1-2} \\cmidrule(lr){3-3} \\cmidrule(l){4-4}\n",
    "\\multirow{4}{*}{VAE}                    & + 500 synthetic  & 0.740$\\pm$0.08 & 0.584$\\pm$0.02 \\\\\n",
    "                                        & + 1000 synthetic & 0.773$\\pm$0.04 & 0.595$\\pm$0.02 \\\\\n",
    "                                        & + 1500 synthetic & 0.752$\\pm$0.03 & 0.570$\\pm$0.02 \\\\\n",
    "                                        & + 2000 synthetic & 0.704$\\pm$0.06 & 0.563$\\pm$0.10 \\\\ \n",
    "                                        \\cmidrule(r){1-2} \\cmidrule(lr){3-3} \\cmidrule(l){4-4}\n",
    "\\multirow{4}{*}{HVAE}                   & + 500 synthetic  & 0.749$\\pm$0.06 & 0.586$\\pm$0.01 \\\\\n",
    "                                        & + 1000 synthetic & 0.760$\\pm$0.07 & 0.614$\\pm$0.04 \\\\\n",
    "                                        & + 1500 synthetic & 0.778$\\pm$0.02 & 0.592$\\pm$0.03 \\\\\n",
    "                                        & + 2000 synthetic & 0.763$\\pm$0.05 & 0.599$\\pm$0.10 \\\\ \n",
    "                                        \\cmidrule(r){1-2} \\cmidrule(lr){3-3} \\cmidrule(l){4-4}\n",
    "\\multirow{4}{*}{Ours ($\\alpha = 0.01$)} & + 500 synthetic  & 0.763$\\pm$0.04 & 0.670$\\pm$0.02 \\\\\n",
    "                                        & + 1000 synthetic & 0.789$\\pm$0.02 & \\textbf{0.672$\\pm$0.01} \\\\\n",
    "                                        & + 1500 synthetic & 0.816$\\pm$0.04 & 0.637$\\pm$0.01 \\\\\n",
    "                                        & + 2000 synthetic & \\textbf{0.844$\\pm$0.01} & 0.607$\\pm$0.03 \\\\ \n",
    "                                        \\bottomrule\n",
    "\\end{tabular}%\n",
    "}\n",
    "\\caption{Quantitative performance of the generative models is evaluated in terms of DSC (\\%↑) on BRATS and HECKTOR. \\label{tab:dice}}\n",
    "\\end{table}\n"
   ]
  }
 ],
 "metadata": {
  "kernelspec": {
   "display_name": "deeplearning",
   "language": "python",
   "name": "python3"
  },
  "language_info": {
   "codemirror_mode": {
    "name": "ipython",
    "version": 3
   },
   "file_extension": ".py",
   "mimetype": "text/x-python",
   "name": "python",
   "nbconvert_exporter": "python",
   "pygments_lexer": "ipython3",
   "version": "3.8.13"
  },
  "orig_nbformat": 4
 },
 "nbformat": 4,
 "nbformat_minor": 2
}
