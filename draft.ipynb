{
 "cells": [
  {
   "cell_type": "code",
   "execution_count": 1,
   "metadata": {},
   "outputs": [
    {
     "name": "stderr",
     "output_type": "stream",
     "text": [
      "Lightning automatically upgraded your loaded checkpoint from v1.9.5 to v2.0.6. To apply the upgrade to your files permanently, run `python -m pytorch_lightning.utilities.upgrade_checkpoint --file runs/2023_08_08_195632 (AE no emb)/last.ckpt`\n",
      "/home/aghiles/anaconda3/envs/work/lib/python3.8/site-packages/torchvision/models/_utils.py:208: UserWarning: The parameter 'pretrained' is deprecated since 0.13 and may be removed in the future, please use 'weights' instead.\n",
      "  warnings.warn(\n",
      "/home/aghiles/anaconda3/envs/work/lib/python3.8/site-packages/torchvision/models/_utils.py:223: UserWarning: Arguments other than a weight enum or `None` for 'weights' are deprecated since 0.13 and may be removed in the future. The current behavior is equivalent to passing `weights=VGG16_Weights.IMAGENET1K_V1`. You can also use `weights=VGG16_Weights.DEFAULT` to get the most up-to-date weights.\n",
      "  warnings.warn(msg)\n"
     ]
    },
    {
     "name": "stdout",
     "output_type": "stream",
     "text": [
      "Setting up [baseline] perceptual loss: trunk [vgg], v[0.1], spatial [off]\n"
     ]
    }
   ],
   "source": [
    "from medical_diffusion.models.embedders.latent_embedders import VAE\n",
    "\n",
    "latent_embedder = VAE\n",
    "latent_embedder_checkpoint = './runs/2023_08_08_195632 (AE no emb)/last.ckpt'\n",
    "\n",
    "\n",
    "vae = latent_embedder.load_from_checkpoint(latent_embedder_checkpoint, time_embedder=None)"
   ]
  },
  {
   "cell_type": "code",
   "execution_count": 1,
   "metadata": {},
   "outputs": [
    {
     "data": {
      "text/plain": [
       "torch.Size([512, 512])"
      ]
     },
     "execution_count": 1,
     "metadata": {},
     "output_type": "execute_result"
    }
   ],
   "source": [
    "import torch\n",
    "x = torch.randn(4, 2, 128, 128)\n",
    "x_hat = torch.randn(4, 2, 128, 128)\n",
    "\n",
    "originals = torch.cat([\n",
    "    torch.hstack([img for img in x[:, idx, ...]])\n",
    "    for idx in range(x.shape[1])\n",
    "], dim=0)\n",
    "\n",
    "reconstructed = torch.cat([\n",
    "    torch.hstack([img for img in x_hat[:, idx, ...]])\n",
    "    for idx in range(x_hat.shape[1])\n",
    "], dim=0)\n",
    "\n",
    "img = torch.cat([originals, reconstructed], dim=0)\n",
    "img.shape"
   ]
  },
  {
   "cell_type": "code",
   "execution_count": 1,
   "metadata": {},
   "outputs": [],
   "source": [
    "import numpy as np\n",
    "\n",
    "data = np.load('./data/brats_preprocessed.npy')"
   ]
  },
  {
   "cell_type": "code",
   "execution_count": 35,
   "metadata": {},
   "outputs": [
    {
     "data": {
      "text/plain": [
       "tensor([[0, 1, 0, 0],\n",
       "        [0, 1, 1, 0],\n",
       "        [0, 1, 0, 1],\n",
       "        [1, 1, 1, 1]])"
      ]
     },
     "execution_count": 35,
     "metadata": {},
     "output_type": "execute_result"
    }
   ],
   "source": [
    "import torch\n",
    "\n",
    "x = torch.randint(0, 2, size=(4, 4))\n",
    "\n",
    "x"
   ]
  },
  {
   "cell_type": "code",
   "execution_count": 5,
   "metadata": {},
   "outputs": [
    {
     "name": "stdout",
     "output_type": "stream",
     "text": [
      "Setting up [baseline] perceptual loss: trunk [vgg], v[0.1], spatial [off]\n"
     ]
    },
    {
     "name": "stderr",
     "output_type": "stream",
     "text": [
      "/home/aghiles/anaconda3/envs/work/lib/python3.8/site-packages/torchvision/models/_utils.py:208: UserWarning: The parameter 'pretrained' is deprecated since 0.13 and may be removed in the future, please use 'weights' instead.\n",
      "  warnings.warn(\n",
      "/home/aghiles/anaconda3/envs/work/lib/python3.8/site-packages/torchvision/models/_utils.py:223: UserWarning: Arguments other than a weight enum or `None` for 'weights' are deprecated since 0.13 and may be removed in the future. The current behavior is equivalent to passing `weights=VGG16_Weights.IMAGENET1K_V1`. You can also use `weights=VGG16_Weights.DEFAULT` to get the most up-to-date weights.\n",
      "  warnings.warn(msg)\n"
     ]
    }
   ],
   "source": [
    "from modules.models.embedders.latent_embedders import VAEGAN\n",
    "import torch\n",
    "\n",
    "model = VAEGAN(\n",
    "    in_channels     = 1, \n",
    "    out_channels    = 1, \n",
    "    emb_channels    = 2,\n",
    "    spatial_dims    = 2,\n",
    "    hid_chs         = [64, 128, 256, 512],\n",
    "    deep_supervision = False,\n",
    "    use_attention   = ['none', 'none', 'none', 'spatial'],\n",
    "    start_gan_train_step = -1,\n",
    "    embedding_loss_weight = 1e-6,\n",
    ")"
   ]
  },
  {
   "cell_type": "code",
   "execution_count": 8,
   "metadata": {},
   "outputs": [
    {
     "data": {
      "text/plain": [
       "[]"
      ]
     },
     "execution_count": 8,
     "metadata": {},
     "output_type": "execute_result"
    }
   ],
   "source": [
    "o = model(torch.randn(4, 1, 128, 128))\n",
    "o[1]"
   ]
  },
  {
   "cell_type": "code",
   "execution_count": 2,
   "metadata": {},
   "outputs": [
    {
     "name": "stdout",
     "output_type": "stream",
     "text": [
      "(64000, 1, 128, 128)\n",
      "1.0 -1.0\n"
     ]
    }
   ],
   "source": [
    "import numpy as np\n",
    "data = np.load('./brats_preprocessed.npy', allow_pickle=True)\n",
    "data = data[:, 0, None]\n",
    "data = data.transpose(0, 4, 1, 2, 3) # depth first\n",
    "\n",
    "norm = lambda data: (2 * data - data.min() - data.max()) / (data.max() - data.min())\n",
    "for idx in range(data.shape[0]):\n",
    "    data[idx] = norm(data[idx]).astype(np.float32)\n",
    "\n",
    "data = data.reshape(-1, 1, 128, 128)\n",
    "\n",
    "print(data.shape)\n",
    "print(data.max(), data.min())"
   ]
  },
  {
   "cell_type": "code",
   "execution_count": 31,
   "metadata": {},
   "outputs": [
    {
     "data": {
      "image/png": "[encoded data removed]",
      "text/plain": [
       "<Figure size 432x288 with 1 Axes>"
      ]
     },
     "metadata": {
      "needs_background": "light"
     },
     "output_type": "display_data"
    },
    {
     "data": {
      "text/plain": [
       "<matplotlib.image.AxesImage at 0x7f7c8c341670>"
      ]
     },
     "execution_count": 31,
     "metadata": {},
     "output_type": "execute_result"
    },
    {
     "data": {
      "image/png": "[encoded data removed]",
      "text/plain": [
       "<Figure size 432x288 with 1 Axes>"
      ]
     },
     "metadata": {
      "needs_background": "light"
     },
     "output_type": "display_data"
    }
   ],
   "source": [
    "import matplotlib.pyplot as plt\n",
    "\n",
    "idx = 300\n",
    "\n",
    "# original\n",
    "plt.imshow(data[idx, 0, :, :], cmap='gray')\n",
    "plt.show()\n",
    "\n",
    "import torch\n",
    "\n",
    "x = torch.from_numpy(data[idx, None, :, :, :]).to('cuda', torch.float32)\n",
    "recon, _, _ = vae(x)\n",
    "plt.imshow(recon[0, 0].detach().cpu().numpy(), cmap='gray')"
   ]
  },
  {
   "cell_type": "code",
   "execution_count": 2,
   "metadata": {},
   "outputs": [
    {
     "ename": "",
     "evalue": "",
     "output_type": "error",
     "traceback": [
      "\u001b[1;31mCannot execute code, session has been disposed. Please try restarting the Kernel."
     ]
    },
    {
     "ename": "",
     "evalue": "",
     "output_type": "error",
     "traceback": [
      "\u001b[1;31mThe Kernel crashed while executing code in the the current cell or a previous cell. Please review the code in the cell(s) to identify a possible cause of the failure. Click <a href='https://aka.ms/vscodeJupyterKernelCrash'>here</a> for more info. View Jupyter <a href='command:jupyter.viewOutput'>log</a> for further details."
     ]
    }
   ],
   "source": [
    "import torch\n",
    "import numpy as np\n",
    "\n",
    "from medical_diffusion.models.embedders.latent_embedders import VAE\n",
    "from medical_diffusion.data.datamodules import SimpleDataModule\n",
    "\n",
    "class IdentityDataset(torch.utils.data.Dataset):\n",
    "    def __init__(self, *data):\n",
    "        self.data = data\n",
    "\n",
    "    def __len__(self):\n",
    "        return self.data[-1].__len__()\n",
    "\n",
    "    def __getitem__(self, index):\n",
    "        return [d[index] for d in self.data]"
   ]
  },
  {
   "cell_type": "code",
   "execution_count": 1,
   "metadata": {},
   "outputs": [],
   "source": [
    "import pytorch_lightning.utilities.cloud_io as plcloud"
   ]
  },
  {
   "cell_type": "code",
   "execution_count": 10,
   "metadata": {},
   "outputs": [],
   "source": [
    "data = np.load('./brats_preprocessed.npy', allow_pickle=True)\n",
    "data = data[:, 0, None, ..., 32]\n",
    "\n",
    "norm = lambda data: (2 * data - data.min() - data.max()) / (data.max() - data.min())\n",
    "for idx in range(data.shape[0]):\n",
    "    data[idx] = norm(data[idx]).astype(np.float32)\n",
    "\n",
    "dataset = IdentityDataset(data)\n",
    "\n",
    "dm = SimpleDataModule(\n",
    "    ds_train = dataset,\n",
    "    batch_size=8, \n",
    "    num_workers=0,\n",
    "    pin_memory=False\n",
    ") "
   ]
  },
  {
   "cell_type": "code",
   "execution_count": 17,
   "metadata": {},
   "outputs": [],
   "source": [
    "import pytorch_lightning as pl"
   ]
  },
  {
   "cell_type": "code",
   "execution_count": 11,
   "metadata": {},
   "outputs": [],
   "source": [
    "dm.prepare_data()\n",
    "dm.setup(stage='train')"
   ]
  },
  {
   "cell_type": "code",
   "execution_count": 12,
   "metadata": {},
   "outputs": [],
   "source": [
    "loader = dm.train_dataloader()"
   ]
  },
  {
   "cell_type": "code",
   "execution_count": 13,
   "metadata": {},
   "outputs": [],
   "source": [
    "b = next(iter(loader))"
   ]
  },
  {
   "cell_type": "code",
   "execution_count": null,
   "metadata": {},
   "outputs": [],
   "source": []
  },
  {
   "attachments": {},
   "cell_type": "markdown",
   "metadata": {},
   "source": [
    "\\begin{table}[t]\n",
    "\\footnotesize\n",
    "\\centering\n",
    "\\resizebox{\\columnwidth}{!}{%\n",
    "\\begin{tabular}{@{}clccccc@{}}\n",
    "\\toprule\n",
    "\\multicolumn{2}{c}{\\multirow{2}{*}{Methods}} & \\multicolumn{5}{c}{Number of training volumes} \\\\ \\cmidrule(l){3-7} \n",
    "                         &                         & 10 & 20 & 30 & 40 & 50 \\\\ \\cmidrule(r){1-2} \\cmidrule(lr){3-3} \\cmidrule(lr){4-4} \\cmidrule(lr){5-5} \\cmidrule(lr){6-6} \\cmidrule(l){7-7}\n",
    "\\multirow{3}{*}{BRATS}   & Reference               & 0.604$\\pm$0.07 & 0.620$\\pm$0.06 & 0.663$\\pm$0.04 & 0.672$\\pm$0.05 & 0.703$\\pm$0.01 \\\\\n",
    "                         & Ours ($\\alpha = 0.01$)  & 0.790$\\pm$0.01 & 0.818$\\pm$0.01 & 0.842$\\pm$0.01 & 0.808$\\pm$0.02 & 0.821$\\pm$0.01 \\\\ \n",
    "                         & Ours + Aug. ($\\times$5) & \\textbf{0.799$\\pm$0.02} & \\textbf{0.828$\\pm$0.01} & \\textbf{0.845$\\pm$0.01} & \\textbf{0.822$\\pm$0.03} & \\textbf{0.840$\\pm$0.03} \\\\ \\cmidrule(r){1-2} \\cmidrule(lr){3-3} \\cmidrule(lr){4-4} \\cmidrule(lr){5-5} \\cmidrule(lr){6-6} \\cmidrule(l){7-7}\n",
    "\\multirow{3}{*}{HECKTOR} & Reference               & 0.454$\\pm$0.11  & 0.528$\\pm$0.10  & 0.542$\\pm$0.02  & 0.629$\\pm$0.04  & 0.648$\\pm$0.04  \\\\\n",
    "                         & Ours ($\\alpha = 0.01$)  & 0.596$\\pm$0.04  & 0.622$\\pm$0.04  & 0.672$\\pm$0.01  & 0.679$\\pm$0.01  & 0.688$\\pm$0.03  \\\\\n",
    "                         & Ours + Aug. ($\\times$5) & \\textbf{0.668$\\pm$0.01}  & \\textbf{0.627$\\pm$0.03}  & \\textbf{0.680$\\pm$0.01} & \\textbf{0.684$\\pm$0.01} & \\textbf{0.696$\\pm$0.01}  \\\\ \\bottomrule\n",
    "\\end{tabular}%\n",
    "}\n",
    "\\caption{Quantitative performance of the our approach evaluated in terms of DSC (\\%↑)  with respect to the base number of real volumes used for training. We also present an augmented variant of our approach in conjunction with standard augmentation methods, resulting in additional performance enhancement. \\label{tab:volumes}}\n",
    "\\end{table}"
   ]
  },
  {
   "attachments": {},
   "cell_type": "markdown",
   "metadata": {},
   "source": [
    "\\begin{table}[h]\n",
    "\\centering\n",
    "\\resizebox{8cm}{!}{\n",
    "\\begin{tabular}{@{}cccc@{}}\n",
    "\\toprule\n",
    "\\multicolumn{2}{c}{Methods}                                    & BRATS & HECKTOR \\\\ \\cmidrule(r){1-2} \\cmidrule(lr){3-3} \\cmidrule(l){4-4}\n",
    "\\multicolumn{2}{c}{Reference}                                  & 0.663$\\pm$0.04 & 0542$\\pm$0.02       \\\\ \\cmidrule(r){1-2} \\cmidrule(lr){3-3} \\cmidrule(l){4-4}\n",
    "\\multicolumn{2}{c}{Augmented ($\\times$2)}                      & 0.786$\\pm$0.01              & 0.563$\\pm$0.04        \\\\\n",
    "\\multicolumn{2}{c}{Augmented ($\\times$3)}                      & 0.798$\\pm$0.01              & 0.587$\\pm$0.13      \\\\\n",
    "\\multicolumn{2}{c}{Augmented ($\\times$5)}                      & 0.810$\\pm$0.01              & 0.658$\\pm$0.14  \\\\ \\cmidrule(r){1-2} \\cmidrule(lr){3-3} \\cmidrule(l){4-4}\n",
    "\\multirow{4}{*}{LSGAN}                  & + 500 synthetic  & 0.703$\\pm$0.03 & 0.609$\\pm$0.11 \\\\\n",
    "                                        & + 1000 synthetic & 0.720$\\pm$0.04 & 0.622$\\pm$0.03 \\\\\n",
    "                                        & + 1500 synthetic & 0.697$\\pm$0.03 & 0.617$\\pm$0.03 \\\\\n",
    "                                        & + 2000 synthetic & 0.676$\\pm$0.06 & 0570$\\pm$0.02  \\\\\n",
    "                                        \\cmidrule(r){1-2} \\cmidrule(lr){3-3} \\cmidrule(l){4-4}\n",
    "\\multirow{4}{*}{VAE}                    & + 500 synthetic  & 0.740$\\pm$0.08 & 0.584$\\pm$0.02 \\\\\n",
    "                                        & + 1000 synthetic & 0.773$\\pm$0.04 & 0.595$\\pm$0.02 \\\\\n",
    "                                        & + 1500 synthetic & 0.752$\\pm$0.03 & 0.570$\\pm$0.02 \\\\\n",
    "                                        & + 2000 synthetic & 0.704$\\pm$0.06 & 0.563$\\pm$0.10 \\\\ \n",
    "                                        \\cmidrule(r){1-2} \\cmidrule(lr){3-3} \\cmidrule(l){4-4}\n",
    "\\multirow{4}{*}{HVAE}                   & + 500 synthetic  & 0.749$\\pm$0.06 & 0.586$\\pm$0.01 \\\\\n",
    "                                        & + 1000 synthetic & 0.760$\\pm$0.07 & 0.614$\\pm$0.04 \\\\\n",
    "                                        & + 1500 synthetic & 0.778$\\pm$0.02 & 0.592$\\pm$0.03 \\\\\n",
    "                                        & + 2000 synthetic & 0.763$\\pm$0.05 & 0.599$\\pm$0.10 \\\\ \n",
    "                                        \\cmidrule(r){1-2} \\cmidrule(lr){3-3} \\cmidrule(l){4-4}\n",
    "\\multirow{4}{*}{Ours ($\\alpha = 0.01$)} & + 500 synthetic  & 0.763$\\pm$0.04 & 0.670$\\pm$0.02 \\\\\n",
    "                                        & + 1000 synthetic & 0.789$\\pm$0.02 & \\textbf{0.672$\\pm$0.01} \\\\\n",
    "                                        & + 1500 synthetic & 0.816$\\pm$0.04 & 0.637$\\pm$0.01 \\\\\n",
    "                                        & + 2000 synthetic & \\textbf{0.844$\\pm$0.01} & 0.607$\\pm$0.03 \\\\ \n",
    "                                        \\bottomrule\n",
    "\\end{tabular}%\n",
    "}\n",
    "\\caption{Quantitative performance of the generative models is evaluated in terms of DSC (\\%↑) on BRATS and HECKTOR. \\label{tab:dice}}\n",
    "\\end{table}\n"
   ]
  }
 ],
 "metadata": {
  "kernelspec": {
   "display_name": "deeplearning",
   "language": "python",
   "name": "python3"
  },
  "language_info": {
   "codemirror_mode": {
    "name": "ipython",
    "version": 3
   },
   "file_extension": ".py",
   "mimetype": "text/x-python",
   "name": "python",
   "nbconvert_exporter": "python",
   "pygments_lexer": "ipython3",
   "version": "3.8.13"
  },
  "orig_nbformat": 4
 },
 "nbformat": 4,
 "nbformat_minor": 2
}
