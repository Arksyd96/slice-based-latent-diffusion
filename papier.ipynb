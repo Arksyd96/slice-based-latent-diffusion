{
 "cells": [
  {
   "attachments": {},
   "cell_type": "markdown",
   "metadata": {},
   "source": [
    "### Abstract\n",
    "\n",
    "- \n",
    "- computation expensiveness of diffusion models makes them hard to use in practice, especially for the synthesis of 3D medical images.\n",
    "- we propose yet a simple "
   ]
  }
 ],
 "metadata": {
  "language_info": {
   "name": "python"
  },
  "orig_nbformat": 4
 },
 "nbformat": 4,
 "nbformat_minor": 2
}
