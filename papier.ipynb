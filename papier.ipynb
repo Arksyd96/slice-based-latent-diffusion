{
 "cells": [
  {
   "attachments": {},
   "cell_type": "markdown",
   "metadata": {},
   "source": [
    "### Abstract\n",
    "\n",
    "- Deep learning has gained a significant attention in medical image segmentation.\n",
    "- However the limited availability of training data remains a major challenge, particularly in the medical field where data acquisition can be costly and subject to privacy regulations.\n",
    "- In efforts to overcome this challenge, traditional data augmentation techniques have been proposed, but these techniques often produce limited and unconvincing results.\n",
    "- for segmentation tasks, providing both images and their corresponding target masks is crucial.\n",
    "- Furthermore, 3D medical images synthesis is impractical due to the tremendous memory cost and training difficulty, essentially if we synthesize the mask too.\n",
    "- To this end we propose a novel yet simple slice-based latent diffusion architecture which handles the reconstruction of the volume in a slice-by-slice fashion and generalizes the joint distribution of the medical images and corresponding mask for a simultaneous generation.\n",
    "- avoids computation expensiveness of diffusion models makes them hard to use in practice, especially for the synthesis of 3D medical images.\n",
    "- By leveraging a 2D Autoencoding architecture supplied with a positional embedding to encode volumes in a slice-by-slice fashion, we are able to synthesize 3D volumes with corresponding segmentation quasi-instantanément.\n",
    "- Furthermore, our architecture allows a conditionning on the tumor and control the relative position and size shape of the tumor.\n",
    "- Furthermore, l'architecture est optimisée et lightweight, architecture free of attention mechanisms permettant des apprentissages plus rapides et demonstrates state-of-the-art performance on 3D medical image synthesis tasks with only limited amount of data.\n",
    "- Experiments conducted on brats dataset demonstrate the quality of the synthesized images and and their efficacy in augmenting the training data for segmentation tasks."
   ]
  },
  {
   "attachments": {},
   "cell_type": "markdown",
   "metadata": {},
   "source": [
    "### Abstract\n",
    "\n",
    "In the field of medical image segmentation, deep learning has gained considerable traction. However, a persistent challenge remains the scarcity of annotated training data, particularly in the medical domain where data collection can be expensive and subject to privacy regulations. While traditional data augmentation methods have been proposed, they often yield suboptimal results. In the context of segmentation tasks, providing both medical images and their corresponding target masks is essential.\n",
    "\n",
    "In this work, we introduce a novel slice-based latent diffusion architecture designed to address the reconstruction of volumetric data in a slice-by-slice manner. This approach extends the joint distribution modeling of medical images and their associated masks for simultaneous generation. Importantly, it mitigates the computational complexity typically associated with diffusion models, making them more practical, especially for the synthesis of 3D medical images.\n",
    "\n",
    "Our approach utilizes a 2D Autoencoding architecture augmented with positional embedding to encode volumes slice by slice. This enables the rapid synthesis of 3D volumes along with their corresponding segmentation masks. Additionally, our architecture allows for precise conditioning on tumor characteristics, providing control over tumor size, shape, and relative position.\n",
    "\n",
    "O - Furthermore, our optimized and lightweight architecture is free of attention mechanisms, facilitating faster learning while achieving state-of-the-art performance in the synthesis of 3D medical images, even with limited available data. Empirical experiments on the BRATS dataset demonstrate the quality of the synthesized images and their effectiveness in augmenting training data for improved segmentation tasks.\n",
    "\n",
    "O - Moreover, our optimized and lightweight architecture achieves state-of-the-art performance in the synthesis of 3D medical images, even when confronted with limited available data. Empirical experiments on the BRATS dataset vividly demonstrate the quality of the synthesized images and their remarkable efficacy in augmenting and enhancing segmentation tasks, despite the scarcity of training data."
   ]
  },
  {
   "attachments": {},
   "cell_type": "markdown",
   "metadata": {},
   "source": [
    "- No use of alternate 1D convolution to catch the volumetric aspect, we use directly a normal 3D convolutional UNet for the diffusion.\n",
    "- Our architecture is free of attention, we assume that attention increases a lot the computation consumption, especially on 3-dimensional data. Furthermore, attention struggles to converge when dealing with low sample size dataset, and needs a higher quantity of data in order to scale. We thus argue that using a UNet with attention is such data-scarce regimes wont bring that much of improvements and more importantly, can encourage potential overfittings. Same rule applied to the autoencoding architecture.\n",
    "\n",
    "- Drawback:\n",
    "Reconstructing sliwe-wise volume can impact the quality when viewing the volume in sagital and coronal views, since the images are decoded in axial view. So there is a logical continuity of the pixel in axial view, but not when its sagital and coronal which can be a problem when dealing with some modalities where those views are important such a PET imaging. "
   ]
  }
 ],
 "metadata": {
  "language_info": {
   "name": "python"
  },
  "orig_nbformat": 4
 },
 "nbformat": 4,
 "nbformat_minor": 2
}
